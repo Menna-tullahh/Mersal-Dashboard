{
 "cells": [
  {
   "cell_type": "code",
   "execution_count": 1,
   "metadata": {},
   "outputs": [],
   "source": [
    "from sparknlp.base import *\n",
    "from sparknlp.annotator import *\n",
    "from sparknlp.pretrained import PretrainedPipeline\n",
    "import sparknlp\n",
    "import pandas as pd\n",
    "import pyspark.sql.functions as F\n",
    "from pyspark.sql.functions import flatten\n",
    "import glob\n",
    "import os\n",
    "from sklearn.metrics import confusion_matrix\n",
    "import seaborn as sns\n",
    "import numpy as np\n",
    "import pickle\n",
    "import pyspark\n",
    "from pyspark.sql import SparkSession \n",
    "from pyspark.sql.functions import col, substring\n",
    "from pyspark.sql.functions import flatten\n",
    "from sklearn.model_selection import train_test_split\n",
    "from sklearn.pipeline import make_pipeline\n",
    "from sklearn.naive_bayes import MultinomialNB\n",
    "from sklearn.tree import DecisionTreeClassifier\n",
    "from sklearn.ensemble import RandomForestClassifier\n",
    "from sklearn.neighbors import KNeighborsClassifier\n",
    "from sklearn.preprocessing import LabelEncoder\n",
    "from sklearn.compose import ColumnTransformer\n",
    "from sklearn.linear_model import LogisticRegression\n",
    "from sklearn.model_selection import GridSearchCV\n",
    "from sklearn import svm\n",
    "import pickle\n",
    "from sklearn.metrics import (\n",
    "    accuracy_score,\n",
    "    classification_report,\n",
    "    plot_confusion_matrix,\n",
    ")\n",
    "from sklearn.preprocessing import label_binarize\n",
    "import matplotlib.pyplot as plt\n",
    "from sklearn.metrics import precision_score\n",
    "from sklearn.metrics import recall_score\n",
    "from sklearn.metrics import f1_score\n",
    "import imblearn\n",
    "from imblearn.under_sampling import TomekLinks\n",
    "from imblearn.over_sampling import SMOTE\n",
    "from imblearn.under_sampling import RandomUnderSampler\n",
    "from collections import Counter\n",
    "from imblearn.over_sampling import RandomOverSampler\n",
    "from sklearn.svm import SVC\n",
    "import joblib\n",
    "import gc\n",
    "import arabic_reshaper\n",
    "import matplotlib.pyplot as plt\n",
    "from bidi.algorithm import get_display\n",
    "from sklearn.metrics import roc_curve, roc_auc_score\n",
    "from sklearn.metrics import roc_curve, auc\n",
    "import tensorflow as tf\n",
    "import tensorflow.keras as keras\n",
    "pd.set_option('display.max_colwidth', None)"
   ]
  },
  {
   "cell_type": "code",
   "execution_count": 38,
   "metadata": {},
   "outputs": [
    {
     "data": {
      "text/plain": [
       "18300"
      ]
     },
     "execution_count": 38,
     "metadata": {},
     "output_type": "execute_result"
    }
   ],
   "source": [
    "gc.collect()"
   ]
  },
  {
   "cell_type": "code",
   "execution_count": 2,
   "metadata": {},
   "outputs": [],
   "source": [
    "spark = sparknlp.start()"
   ]
  },
  {
   "cell_type": "code",
   "execution_count": 3,
   "metadata": {},
   "outputs": [],
   "source": [
    "# spark.stop()"
   ]
  },
  {
   "cell_type": "code",
   "execution_count": 4,
   "metadata": {},
   "outputs": [],
   "source": [
    "datafiltered = pd.read_csv(\"all_filtered_final.csv\")"
   ]
  },
  {
   "cell_type": "markdown",
   "metadata": {},
   "source": [
    "# function nlp"
   ]
  },
  {
   "cell_type": "code",
   "execution_count": 5,
   "metadata": {},
   "outputs": [],
   "source": [
    "def nlp_function(file, testing):\n",
    "    if testing == True:\n",
    "        df = file\n",
    "    else: \n",
    "        df = spark.read\\\n",
    "                        .option(\"header\", \"True\")\\\n",
    "                        .csv(file)\\\n",
    "                        .withColumnRenamed(\"description\", \"text\")\n",
    "\n",
    "    documentAssembler = DocumentAssembler()\\\n",
    "        .setInputCol(\"text\")\\\n",
    "        .setOutputCol(\"document\")\\\n",
    "\n",
    "    sentenceDetector = SentenceDetector()\\\n",
    "          .setInputCols(['document'])\\\n",
    "          .setOutputCol('sentences')\n",
    "\n",
    "    tokenizer = Tokenizer() \\\n",
    "      .setInputCols([\"sentences\"]) \\\n",
    "      .setOutputCol(\"token\")\\\n",
    "\n",
    "    normalizer = Normalizer() \\\n",
    "        .setInputCols([\"token\"]) \\\n",
    "        .setOutputCol(\"token_normalized\")\\\n",
    "\n",
    "    stop_words = StopWordsCleaner.load(\"pretrained\\\\stopwords_ar_ar_2.5.4_2.4_1594742440256\") \\\n",
    "          .setInputCols([\"token_normalized\"]) \\\n",
    "          .setOutputCol(\"cleanTokens\")\n",
    "\n",
    "\n",
    "    lemmatizer = LemmatizerModel.load(\"pretrained\\\\lemma_ar_2.7.0_2.4_1606572966993\") \\\n",
    "          .setInputCols([\"cleanTokens\"]) \\\n",
    "          .setOutputCol(\"lemma\")\n",
    "\n",
    "\n",
    "    embeddings = BertEmbeddings.load(\"pretrained\\\\bert_embeddings_bert_mini_arabic_ar_3.4.2_3.0_1649677815613\") \\\n",
    "        .setInputCols([\"document\", \"lemma\"]) \\\n",
    "        .setOutputCol(\"embeddings\")\n",
    "\n",
    "    nlpPipeline = Pipeline(stages=[\n",
    "        documentAssembler,\n",
    "        sentenceDetector,\n",
    "        tokenizer,\n",
    "        normalizer,\n",
    "        stop_words,\n",
    "        lemmatizer,\n",
    "        embeddings\n",
    "    ])\n",
    "\n",
    "    empty_df = spark.createDataFrame([['']]).toDF(\"text\")\n",
    "    pipelineModel = nlpPipeline.fit(empty_df)\n",
    "    result = pipelineModel.transform(df)\n",
    "\n",
    "    final_to_run = result.select('embeddings.embeddings')\n",
    "    final_to_run = final_to_run.select(flatten(final_to_run.embeddings))\n",
    "\n",
    "    final_to_run= final_to_run.withColumnRenamed(\"flatten(embeddings)\",\"embeddings\")\n",
    "    if testing == True:\n",
    "        test = final_to_run.select('embeddings').take(1)[0][0]\n",
    "        lst = [0] * (24320  -len(test))\n",
    "        final_to_run = test + lst\n",
    "    else:    \n",
    "        length = len(final_to_run.select('embeddings').take(1)[0][0])\n",
    "        final_to_run = final_to_run.select([final_to_run.embeddings[i] for i in range(length)])\n",
    "\n",
    "    return final_to_run"
   ]
  },
  {
   "cell_type": "markdown",
   "metadata": {},
   "source": [
    "# save embeddings to file"
   ]
  },
  {
   "cell_type": "code",
   "execution_count": 6,
   "metadata": {},
   "outputs": [],
   "source": [
    "final_to_run = nlp_function(\"all_filtered_final.csv\", False)\n",
    "final_to_run.write.format(\"csv\").save(\"bertembeddingsfinal\")"
   ]
  },
  {
   "cell_type": "markdown",
   "metadata": {},
   "source": [
    "# merge embeddings to one file"
   ]
  },
  {
   "cell_type": "code",
   "execution_count": 7,
   "metadata": {},
   "outputs": [
    {
     "data": {
      "text/plain": [
       "['bertembeddingsfinal\\\\part-00000-063837a9-26c7-4ca9-92bb-45b9c2b7ed6d-c000.csv',\n",
       " 'bertembeddingsfinal\\\\part-00001-063837a9-26c7-4ca9-92bb-45b9c2b7ed6d-c000.csv',\n",
       " 'bertembeddingsfinal\\\\part-00002-063837a9-26c7-4ca9-92bb-45b9c2b7ed6d-c000.csv']"
      ]
     },
     "execution_count": 7,
     "metadata": {},
     "output_type": "execute_result"
    }
   ],
   "source": [
    "files = os.path.join(\"bertembeddingsfinal\",\"*.csv\")\n",
    "files = glob.glob(files)\n",
    "files"
   ]
  },
  {
   "cell_type": "code",
   "execution_count": 8,
   "metadata": {},
   "outputs": [],
   "source": [
    "part1 = pd.read_csv('bertembeddingsfinal\\\\part-00000-063837a9-26c7-4ca9-92bb-45b9c2b7ed6d-c000.csv', header = None)"
   ]
  },
  {
   "cell_type": "code",
   "execution_count": 9,
   "metadata": {},
   "outputs": [],
   "source": [
    "part2 = pd.read_csv('bertembeddingsfinal\\\\part-00001-063837a9-26c7-4ca9-92bb-45b9c2b7ed6d-c000.csv', header = None)"
   ]
  },
  {
   "cell_type": "code",
   "execution_count": 10,
   "metadata": {},
   "outputs": [],
   "source": [
    "part3 = pd.read_csv('bertembeddingsfinal\\\\part-00002-063837a9-26c7-4ca9-92bb-45b9c2b7ed6d-c000.csv', header = None)"
   ]
  },
  {
   "cell_type": "code",
   "execution_count": 51,
   "metadata": {},
   "outputs": [],
   "source": [
    "df_all_embeddings = pd.concat([part1, part2, part3], axis =0)"
   ]
  },
  {
   "cell_type": "code",
   "execution_count": 67,
   "metadata": {},
   "outputs": [
    {
     "data": {
      "text/plain": [
       "(10504, 24320)"
      ]
     },
     "execution_count": 67,
     "metadata": {},
     "output_type": "execute_result"
    }
   ],
   "source": [
    "df_all_embeddings.shape"
   ]
  },
  {
   "cell_type": "code",
   "execution_count": 53,
   "metadata": {},
   "outputs": [],
   "source": [
    "df_all_embeddings = df_all_embeddings.fillna(0)"
   ]
  },
  {
   "cell_type": "code",
   "execution_count": 66,
   "metadata": {},
   "outputs": [
    {
     "data": {
      "text/html": [
       "<div>\n",
       "<style scoped>\n",
       "    .dataframe tbody tr th:only-of-type {\n",
       "        vertical-align: middle;\n",
       "    }\n",
       "\n",
       "    .dataframe tbody tr th {\n",
       "        vertical-align: top;\n",
       "    }\n",
       "\n",
       "    .dataframe thead th {\n",
       "        text-align: right;\n",
       "    }\n",
       "</style>\n",
       "<table border=\"1\" class=\"dataframe\">\n",
       "  <thead>\n",
       "    <tr style=\"text-align: right;\">\n",
       "      <th></th>\n",
       "      <th>0</th>\n",
       "      <th>1</th>\n",
       "      <th>2</th>\n",
       "      <th>3</th>\n",
       "      <th>4</th>\n",
       "      <th>5</th>\n",
       "      <th>6</th>\n",
       "      <th>7</th>\n",
       "      <th>8</th>\n",
       "      <th>9</th>\n",
       "      <th>...</th>\n",
       "      <th>24310</th>\n",
       "      <th>24311</th>\n",
       "      <th>24312</th>\n",
       "      <th>24313</th>\n",
       "      <th>24314</th>\n",
       "      <th>24315</th>\n",
       "      <th>24316</th>\n",
       "      <th>24317</th>\n",
       "      <th>24318</th>\n",
       "      <th>24319</th>\n",
       "    </tr>\n",
       "  </thead>\n",
       "  <tbody>\n",
       "    <tr>\n",
       "      <th>0</th>\n",
       "      <td>0.354644</td>\n",
       "      <td>-0.345873</td>\n",
       "      <td>1.658191</td>\n",
       "      <td>0.279144</td>\n",
       "      <td>-0.715627</td>\n",
       "      <td>-0.010102</td>\n",
       "      <td>1.02706</td>\n",
       "      <td>-0.988201</td>\n",
       "      <td>-0.43264</td>\n",
       "      <td>0.094906</td>\n",
       "      <td>...</td>\n",
       "      <td>1.134737</td>\n",
       "      <td>-0.961213</td>\n",
       "      <td>0.803158</td>\n",
       "      <td>0.507372</td>\n",
       "      <td>-0.872288</td>\n",
       "      <td>1.108102</td>\n",
       "      <td>-1.344112</td>\n",
       "      <td>-1.326309</td>\n",
       "      <td>0.012405</td>\n",
       "      <td>1.23402</td>\n",
       "    </tr>\n",
       "  </tbody>\n",
       "</table>\n",
       "<p>1 rows × 24320 columns</p>\n",
       "</div>"
      ],
      "text/plain": [
       "      0         1         2         3         4         5        6      \\\n",
       "0  0.354644 -0.345873  1.658191  0.279144 -0.715627 -0.010102  1.02706   \n",
       "\n",
       "      7        8         9      ...     24310     24311     24312     24313  \\\n",
       "0 -0.988201 -0.43264  0.094906  ...  1.134737 -0.961213  0.803158  0.507372   \n",
       "\n",
       "      24314     24315     24316     24317     24318    24319  \n",
       "0 -0.872288  1.108102 -1.344112 -1.326309  0.012405  1.23402  \n",
       "\n",
       "[1 rows x 24320 columns]"
      ]
     },
     "execution_count": 66,
     "metadata": {},
     "output_type": "execute_result"
    }
   ],
   "source": [
    "df_all_embeddings.head(1)"
   ]
  },
  {
   "cell_type": "markdown",
   "metadata": {},
   "source": [
    "# Save Final File (embeddings)"
   ]
  },
  {
   "cell_type": "code",
   "execution_count": 68,
   "metadata": {},
   "outputs": [],
   "source": [
    "df_all_embeddings.to_csv('all_final_embeddingsfinal.csv', index = False)"
   ]
  },
  {
   "cell_type": "code",
   "execution_count": 8,
   "metadata": {},
   "outputs": [],
   "source": [
    "df_all_embeddings = pd.read_csv(\"final upload bod\\\\all_final_embeddingsfinal.csv\")"
   ]
  },
  {
   "cell_type": "code",
   "execution_count": 9,
   "metadata": {},
   "outputs": [
    {
     "data": {
      "text/plain": [
       "(10504, 24320)"
      ]
     },
     "execution_count": 9,
     "metadata": {},
     "output_type": "execute_result"
    }
   ],
   "source": [
    "df_all_embeddings.shape"
   ]
  },
  {
   "cell_type": "markdown",
   "metadata": {},
   "source": [
    "# Pre-processing"
   ]
  },
  {
   "cell_type": "code",
   "execution_count": 10,
   "metadata": {},
   "outputs": [],
   "source": [
    "x = df_all_embeddings\n",
    "Y = datafiltered['y']\n",
    "y = LabelEncoder().fit_transform(Y)"
   ]
  },
  {
   "cell_type": "code",
   "execution_count": 11,
   "metadata": {},
   "outputs": [
    {
     "name": "stdout",
     "output_type": "stream",
     "text": [
      "class_accepted: (8248,)\n",
      "class_rejected: (1651,)\n",
      "class_medical: (605,)\n"
     ]
    }
   ],
   "source": [
    "class_count_accepted, class_count_rejected, class_count_medical = Y.value_counts()\n",
    "\n",
    "class_accepted = Y[Y == 'تكفل']\n",
    "class_rejected = Y[Y== 'استبعاد']\n",
    "class_medical = Y[Y == 'توجيه طبي']\n",
    "print('class_accepted:', class_accepted.shape)\n",
    "print('class_rejected:', class_rejected.shape)\n",
    "print('class_medical:', class_medical.shape)"
   ]
  },
  {
   "cell_type": "code",
   "execution_count": 12,
   "metadata": {},
   "outputs": [],
   "source": [
    "# fig, ax = plt.subplots()\n",
    "# acc = get_display(arabic_reshaper.reshape(\"تكفل\"))\n",
    "# rej = get_display(arabic_reshaper.reshape(\"استبعاد\"))\n",
    "# med = get_display(arabic_reshaper.reshape(\"توجيه طبي\"))\n",
    "\n",
    "# rects1 = ax.bar(df['y'].unique(), df['y'].value_counts().sort_values())\n",
    "# ax.set_xticklabels([acc, rej,med])\n",
    "# plt.show()"
   ]
  },
  {
   "cell_type": "code",
   "execution_count": 13,
   "metadata": {},
   "outputs": [
    {
     "name": "stdout",
     "output_type": "stream",
     "text": [
      "Counter({1: 8248, 0: 1651, 2: 605})\n"
     ]
    }
   ],
   "source": [
    "print(Counter(y))"
   ]
  },
  {
   "cell_type": "markdown",
   "metadata": {},
   "source": [
    "#### sampled"
   ]
  },
  {
   "cell_type": "code",
   "execution_count": 14,
   "metadata": {},
   "outputs": [
    {
     "name": "stdout",
     "output_type": "stream",
     "text": [
      "Counter({1: 3000, 0: 1651, 2: 605})\n"
     ]
    }
   ],
   "source": [
    "# #undersampling\n",
    "undersample = RandomUnderSampler(sampling_strategy={0: 1651, 1: 3000, 2: 605})\n",
    "X_under, y_under = undersample.fit_resample(x, y)\n",
    "print(Counter(y_under))"
   ]
  },
  {
   "cell_type": "code",
   "execution_count": 15,
   "metadata": {},
   "outputs": [],
   "source": [
    "# #oversampling\n",
    "# oversample = RandomOverSampler(sampling_strategy='minority')\n",
    "# X_over, y_over = oversample.fit_resample(x, y)\n",
    "\n",
    "# print(Counter(y_over))"
   ]
  },
  {
   "cell_type": "code",
   "execution_count": 16,
   "metadata": {},
   "outputs": [
    {
     "name": "stdout",
     "output_type": "stream",
     "text": [
      "Counter({0: 3000, 1: 3000, 2: 3000})\n"
     ]
    }
   ],
   "source": [
    "#oversampling by SMOTE\n",
    "oversample = SMOTE(sampling_strategy='all')\n",
    "x_smote, y_smote = oversample.fit_resample(X_under, y_under)\n",
    "print(Counter(y_smote))"
   ]
  },
  {
   "cell_type": "code",
   "execution_count": 17,
   "metadata": {},
   "outputs": [],
   "source": [
    "X_train_s, X_test_s, y_train_s, y_test_s = train_test_split(x_smote, y_smote,\n",
    "    test_size=0.20,\n",
    "    random_state=1,\n",
    "    shuffle=True,\n",
    "    stratify=y_smote,\n",
    "    )"
   ]
  },
  {
   "cell_type": "markdown",
   "metadata": {},
   "source": [
    "#### not sampled (weighted model)"
   ]
  },
  {
   "cell_type": "code",
   "execution_count": 18,
   "metadata": {},
   "outputs": [],
   "source": [
    "X_train_n, X_test_n, y_train_n, y_test_n = train_test_split(x, y,\n",
    "    test_size=0.20,\n",
    "    random_state=1,\n",
    "    shuffle=True,\n",
    "    stratify=y,\n",
    "    )"
   ]
  },
  {
   "cell_type": "code",
   "execution_count": 19,
   "metadata": {},
   "outputs": [
    {
     "data": {
      "text/plain": [
       "10504"
      ]
     },
     "execution_count": 19,
     "metadata": {},
     "output_type": "execute_result"
    }
   ],
   "source": [
    "x.shape[0]"
   ]
  },
  {
   "cell_type": "code",
   "execution_count": 20,
   "metadata": {},
   "outputs": [],
   "source": [
    "unique_classes = [0,1,2]\n",
    "our_dict = {}\n",
    "for classes in unique_classes:\n",
    "    our_dict[classes] = x.shape[0]/(x.loc[y == classes].shape[0]) * len(unique_classes)"
   ]
  },
  {
   "cell_type": "code",
   "execution_count": 21,
   "metadata": {},
   "outputs": [
    {
     "data": {
      "text/plain": [
       "{0: 19.086614173228348, 1: 3.8205625606207567, 2: 52.085950413223145}"
      ]
     },
     "execution_count": 21,
     "metadata": {},
     "output_type": "execute_result"
    }
   ],
   "source": [
    "our_dict"
   ]
  },
  {
   "cell_type": "code",
   "execution_count": 17,
   "metadata": {},
   "outputs": [],
   "source": [
    "# from sklearn.utils import class_weight\n",
    "# class_weight.compute_class_weight('balanced', np.unique(y_train_n), y_train_n)"
   ]
  },
  {
   "cell_type": "code",
   "execution_count": null,
   "metadata": {},
   "outputs": [],
   "source": []
  },
  {
   "cell_type": "code",
   "execution_count": null,
   "metadata": {},
   "outputs": [],
   "source": []
  },
  {
   "cell_type": "code",
   "execution_count": null,
   "metadata": {},
   "outputs": [],
   "source": []
  },
  {
   "cell_type": "markdown",
   "metadata": {},
   "source": [
    "# Model"
   ]
  },
  {
   "cell_type": "markdown",
   "metadata": {},
   "source": [
    "## Random Forest"
   ]
  },
  {
   "cell_type": "markdown",
   "metadata": {},
   "source": [
    "##### with sampling"
   ]
  },
  {
   "cell_type": "code",
   "execution_count": null,
   "metadata": {},
   "outputs": [
    {
     "name": "stdout",
     "output_type": "stream",
     "text": [
      "Fitting 3 folds for each of 256 candidates, totalling 768 fits\n"
     ]
    }
   ],
   "source": [
    "# RF_s = RandomForestClassifier()\n",
    "\n",
    "# param_gridRF_s = [\n",
    "# {\n",
    "# \"n_estimators\":[100,1000,2000, 3000],\n",
    "# \"min_samples_leaf\":[1,10,100, 1000],\n",
    "# \"max_leaf_nodes\":[300,500,700,900],\n",
    "# \"max_samples\":[300,500,700,900],\n",
    "#  },\n",
    "    \n",
    "#  ]\n",
    "\n",
    "# gridsearchRF_s = GridSearchCV(RF_s, param_gridRF_s, cv=3, verbose=1, n_jobs=-1) \n",
    "# best_modelRF_s = gridsearchRF_s.fit(X_train_s.values,y_train_s)"
   ]
  },
  {
   "cell_type": "code",
   "execution_count": null,
   "metadata": {},
   "outputs": [],
   "source": [
    "# gridsearchRF_s.cv_results_"
   ]
  },
  {
   "cell_type": "code",
   "execution_count": null,
   "metadata": {},
   "outputs": [],
   "source": [
    "# plot.grid_search(gridsearchRF_s.cv_results_, change='n_estimators', kind='bar')"
   ]
  },
  {
   "cell_type": "code",
   "execution_count": null,
   "metadata": {},
   "outputs": [],
   "source": [
    "# print(\"\\n The best estimator across ALL searched params:\\n\",gridsearchRF_s.best_estimator_)\n",
    "# print(\"\\n The best score across ALL searched params:\\n\",gridsearchRF_s.best_score_)\n",
    "# print(\"\\n The best parameters across ALL searched params:\\n\",gridsearchRF_s.best_params_)"
   ]
  },
  {
   "cell_type": "code",
   "execution_count": null,
   "metadata": {},
   "outputs": [],
   "source": [
    "# accuracy_train = accuracy_score(y_train_s, best_modelRF.predict(X_train_s))\n",
    "# print('\\nTrain Accuracy:{: .2f}%'.format(accuracy_train*100))\n",
    "# accuracy_test = accuracy_score(y_test_s, best_modelRF.predict(X_test_s))\n",
    "# print('Test Accuracy:{: .2f}%'.format(accuracy_test*100))"
   ]
  },
  {
   "cell_type": "code",
   "execution_count": null,
   "metadata": {},
   "outputs": [],
   "source": [
    "# print(gridsearchRF.score(X_valid,y_valid))\n",
    "# print(best_modelRF.best_params_)"
   ]
  },
  {
   "cell_type": "code",
   "execution_count": null,
   "metadata": {},
   "outputs": [],
   "source": []
  },
  {
   "cell_type": "code",
   "execution_count": 28,
   "metadata": {},
   "outputs": [
    {
     "data": {
      "text/html": [
       "<style>#sk-container-id-3 {color: black;background-color: white;}#sk-container-id-3 pre{padding: 0;}#sk-container-id-3 div.sk-toggleable {background-color: white;}#sk-container-id-3 label.sk-toggleable__label {cursor: pointer;display: block;width: 100%;margin-bottom: 0;padding: 0.3em;box-sizing: border-box;text-align: center;}#sk-container-id-3 label.sk-toggleable__label-arrow:before {content: \"▸\";float: left;margin-right: 0.25em;color: #696969;}#sk-container-id-3 label.sk-toggleable__label-arrow:hover:before {color: black;}#sk-container-id-3 div.sk-estimator:hover label.sk-toggleable__label-arrow:before {color: black;}#sk-container-id-3 div.sk-toggleable__content {max-height: 0;max-width: 0;overflow: hidden;text-align: left;background-color: #f0f8ff;}#sk-container-id-3 div.sk-toggleable__content pre {margin: 0.2em;color: black;border-radius: 0.25em;background-color: #f0f8ff;}#sk-container-id-3 input.sk-toggleable__control:checked~div.sk-toggleable__content {max-height: 200px;max-width: 100%;overflow: auto;}#sk-container-id-3 input.sk-toggleable__control:checked~label.sk-toggleable__label-arrow:before {content: \"▾\";}#sk-container-id-3 div.sk-estimator input.sk-toggleable__control:checked~label.sk-toggleable__label {background-color: #d4ebff;}#sk-container-id-3 div.sk-label input.sk-toggleable__control:checked~label.sk-toggleable__label {background-color: #d4ebff;}#sk-container-id-3 input.sk-hidden--visually {border: 0;clip: rect(1px 1px 1px 1px);clip: rect(1px, 1px, 1px, 1px);height: 1px;margin: -1px;overflow: hidden;padding: 0;position: absolute;width: 1px;}#sk-container-id-3 div.sk-estimator {font-family: monospace;background-color: #f0f8ff;border: 1px dotted black;border-radius: 0.25em;box-sizing: border-box;margin-bottom: 0.5em;}#sk-container-id-3 div.sk-estimator:hover {background-color: #d4ebff;}#sk-container-id-3 div.sk-parallel-item::after {content: \"\";width: 100%;border-bottom: 1px solid gray;flex-grow: 1;}#sk-container-id-3 div.sk-label:hover label.sk-toggleable__label {background-color: #d4ebff;}#sk-container-id-3 div.sk-serial::before {content: \"\";position: absolute;border-left: 1px solid gray;box-sizing: border-box;top: 0;bottom: 0;left: 50%;z-index: 0;}#sk-container-id-3 div.sk-serial {display: flex;flex-direction: column;align-items: center;background-color: white;padding-right: 0.2em;padding-left: 0.2em;position: relative;}#sk-container-id-3 div.sk-item {position: relative;z-index: 1;}#sk-container-id-3 div.sk-parallel {display: flex;align-items: stretch;justify-content: center;background-color: white;position: relative;}#sk-container-id-3 div.sk-item::before, #sk-container-id-3 div.sk-parallel-item::before {content: \"\";position: absolute;border-left: 1px solid gray;box-sizing: border-box;top: 0;bottom: 0;left: 50%;z-index: -1;}#sk-container-id-3 div.sk-parallel-item {display: flex;flex-direction: column;z-index: 1;position: relative;background-color: white;}#sk-container-id-3 div.sk-parallel-item:first-child::after {align-self: flex-end;width: 50%;}#sk-container-id-3 div.sk-parallel-item:last-child::after {align-self: flex-start;width: 50%;}#sk-container-id-3 div.sk-parallel-item:only-child::after {width: 0;}#sk-container-id-3 div.sk-dashed-wrapped {border: 1px dashed gray;margin: 0 0.4em 0.5em 0.4em;box-sizing: border-box;padding-bottom: 0.4em;background-color: white;}#sk-container-id-3 div.sk-label label {font-family: monospace;font-weight: bold;display: inline-block;line-height: 1.2em;}#sk-container-id-3 div.sk-label-container {text-align: center;}#sk-container-id-3 div.sk-container {/* jupyter's `normalize.less` sets `[hidden] { display: none; }` but bootstrap.min.css set `[hidden] { display: none !important; }` so we also need the `!important` here to be able to override the default hidden behavior on the sphinx rendered scikit-learn.org. See: https://github.com/scikit-learn/scikit-learn/issues/21755 */display: inline-block !important;position: relative;}#sk-container-id-3 div.sk-text-repr-fallback {display: none;}</style><div id=\"sk-container-id-3\" class=\"sk-top-container\"><div class=\"sk-text-repr-fallback\"><pre>RandomForestClassifier(max_features=200, max_leaf_nodes=100, n_estimators=2000,\n",
       "                       n_jobs=-1)</pre><b>In a Jupyter environment, please rerun this cell to show the HTML representation or trust the notebook. <br />On GitHub, the HTML representation is unable to render, please try loading this page with nbviewer.org.</b></div><div class=\"sk-container\" hidden><div class=\"sk-item\"><div class=\"sk-estimator sk-toggleable\"><input class=\"sk-toggleable__control sk-hidden--visually\" id=\"sk-estimator-id-3\" type=\"checkbox\" checked><label for=\"sk-estimator-id-3\" class=\"sk-toggleable__label sk-toggleable__label-arrow\">RandomForestClassifier</label><div class=\"sk-toggleable__content\"><pre>RandomForestClassifier(max_features=200, max_leaf_nodes=100, n_estimators=2000,\n",
       "                       n_jobs=-1)</pre></div></div></div></div></div>"
      ],
      "text/plain": [
       "RandomForestClassifier(max_features=200, max_leaf_nodes=100, n_estimators=2000,\n",
       "                       n_jobs=-1)"
      ]
     },
     "execution_count": 28,
     "metadata": {},
     "output_type": "execute_result"
    }
   ],
   "source": [
    "#RF = RandomForestClassifier(n_estimators=1000, bootstrap = False, n_jobs=-1 ,max_leaf_nodes = 800)\n",
    "RF = RandomForestClassifier(n_estimators=2000, n_jobs=-1 ,max_leaf_nodes = 100, max_features = 200)\n",
    "\n",
    "RF.fit(X_train_s.values, y_train_s)"
   ]
  },
  {
   "cell_type": "code",
   "execution_count": 29,
   "metadata": {},
   "outputs": [
    {
     "name": "stderr",
     "output_type": "stream",
     "text": [
      "C:\\Users\\Me.Amin\\AppData\\Local\\Continuum\\anaconda3\\envs\\myenv\\lib\\site-packages\\sklearn\\base.py:443: UserWarning: X has feature names, but RandomForestClassifier was fitted without feature names\n",
      "  warnings.warn(\n"
     ]
    },
    {
     "name": "stdout",
     "output_type": "stream",
     "text": [
      "\n",
      "Train Accuracy: 91.90%\n"
     ]
    },
    {
     "name": "stderr",
     "output_type": "stream",
     "text": [
      "C:\\Users\\Me.Amin\\AppData\\Local\\Continuum\\anaconda3\\envs\\myenv\\lib\\site-packages\\sklearn\\base.py:443: UserWarning: X has feature names, but RandomForestClassifier was fitted without feature names\n",
      "  warnings.warn(\n"
     ]
    },
    {
     "name": "stdout",
     "output_type": "stream",
     "text": [
      "Test Accuracy: 76.67%\n"
     ]
    }
   ],
   "source": [
    "accuracy_train = accuracy_score(y_train_s, RF.predict(X_train_s))\n",
    "print('\\nTrain Accuracy:{: .2f}%'.format(accuracy_train*100))\n",
    "accuracy_test = accuracy_score(y_test_s, RF.predict(X_test_s))\n",
    "print('Test Accuracy:{: .2f}%'.format(accuracy_test*100))"
   ]
  },
  {
   "cell_type": "code",
   "execution_count": 24,
   "metadata": {},
   "outputs": [
    {
     "name": "stdout",
     "output_type": "stream",
     "text": [
      "0.8011111111111111\n",
      "0.8011111111111111\n",
      "0.8011111111111111\n"
     ]
    }
   ],
   "source": [
    "precision = precision_score(y_test_s, RF.predict(X_test_s.values), average='micro')\n",
    "print(precision)\n",
    "recall = recall_score(y_test_s, RF.predict(X_test_s.values), average='micro')\n",
    "print(recall)\n",
    "score = f1_score(y_test_s, RF.predict(X_test_s.values), average='micro')\n",
    "print(score)\n",
    "#'micro', macro', 'weighted'"
   ]
  },
  {
   "cell_type": "code",
   "execution_count": 25,
   "metadata": {},
   "outputs": [
    {
     "data": {
      "image/png": "[encoded data removed]",
      "text/plain": [
       "<Figure size 432x288 with 2 Axes>"
      ]
     },
     "metadata": {
      "needs_background": "light"
     },
     "output_type": "display_data"
    }
   ],
   "source": [
    "cf_matrix = confusion_matrix(y_test_s, RF.predict(X_test_s.values))\n",
    "ax = sns.heatmap(cf_matrix/np.sum(cf_matrix), annot=True, \n",
    "            fmt='.2%', cmap='Blues')\n",
    "\n",
    "ax.set_title('Seaborn Confusion Matrix with labels\\n\\n');\n",
    "ax.set_xlabel('\\nPredicted Values')\n",
    "ax.set_ylabel('Actual Values ');\n",
    "\n",
    "plt.show()"
   ]
  },
  {
   "cell_type": "code",
   "execution_count": 132,
   "metadata": {},
   "outputs": [],
   "source": [
    "def roc_auc_score_multiclass(actual_class, pred_class, average = \"macro\"):\n",
    "    \n",
    "    #creating a set of all the unique classes using the actual class list\n",
    "    unique_class = set(actual_class)\n",
    "    roc_auc_dict = {}\n",
    "    for per_class in unique_class:\n",
    "        \n",
    "        #creating a list of all the classes except the current class \n",
    "        other_class = [x for x in unique_class if x != per_class]\n",
    "\n",
    "        #marking the current class as 1 and all other classes as 0\n",
    "        new_actual_class = [0 if x in other_class else 1 for x in actual_class]\n",
    "        new_pred_class = [0 if x in other_class else 1 for x in pred_class]\n",
    "\n",
    "        #using the sklearn metrics method to calculate the roc_auc_score\n",
    "        roc_auc = roc_auc_score(new_actual_class, new_pred_class, average = average)\n",
    "        roc_auc_dict[per_class] = roc_auc\n",
    "\n",
    "    return roc_auc_dict"
   ]
  },
  {
   "cell_type": "code",
   "execution_count": 134,
   "metadata": {},
   "outputs": [
    {
     "data": {
      "text/plain": [
       "{0: 0.806789421378414, 1: 0.7878451874057838, 2: 0.9661675635078522}"
      ]
     },
     "execution_count": 134,
     "metadata": {},
     "output_type": "execute_result"
    }
   ],
   "source": [
    "roc_auc_dict = roc_auc_score_multiclass(y_valid,  RF.predict(X_valid))\n",
    "roc_auc_dict"
   ]
  },
  {
   "cell_type": "code",
   "execution_count": 116,
   "metadata": {},
   "outputs": [
    {
     "data": {
      "text/plain": [
       "['finalRF.joblib']"
      ]
     },
     "execution_count": 116,
     "metadata": {},
     "output_type": "execute_result"
    }
   ],
   "source": [
    "filename = 'finalRF.joblib'\n",
    "joblib.dump(RF, filename)"
   ]
  },
  {
   "cell_type": "markdown",
   "metadata": {},
   "source": [
    "#### without sampling"
   ]
  },
  {
   "cell_type": "code",
   "execution_count": 117,
   "metadata": {},
   "outputs": [
    {
     "data": {
      "text/html": [
       "<style>#sk-container-id-30 {color: black;background-color: white;}#sk-container-id-30 pre{padding: 0;}#sk-container-id-30 div.sk-toggleable {background-color: white;}#sk-container-id-30 label.sk-toggleable__label {cursor: pointer;display: block;width: 100%;margin-bottom: 0;padding: 0.3em;box-sizing: border-box;text-align: center;}#sk-container-id-30 label.sk-toggleable__label-arrow:before {content: \"▸\";float: left;margin-right: 0.25em;color: #696969;}#sk-container-id-30 label.sk-toggleable__label-arrow:hover:before {color: black;}#sk-container-id-30 div.sk-estimator:hover label.sk-toggleable__label-arrow:before {color: black;}#sk-container-id-30 div.sk-toggleable__content {max-height: 0;max-width: 0;overflow: hidden;text-align: left;background-color: #f0f8ff;}#sk-container-id-30 div.sk-toggleable__content pre {margin: 0.2em;color: black;border-radius: 0.25em;background-color: #f0f8ff;}#sk-container-id-30 input.sk-toggleable__control:checked~div.sk-toggleable__content {max-height: 200px;max-width: 100%;overflow: auto;}#sk-container-id-30 input.sk-toggleable__control:checked~label.sk-toggleable__label-arrow:before {content: \"▾\";}#sk-container-id-30 div.sk-estimator input.sk-toggleable__control:checked~label.sk-toggleable__label {background-color: #d4ebff;}#sk-container-id-30 div.sk-label input.sk-toggleable__control:checked~label.sk-toggleable__label {background-color: #d4ebff;}#sk-container-id-30 input.sk-hidden--visually {border: 0;clip: rect(1px 1px 1px 1px);clip: rect(1px, 1px, 1px, 1px);height: 1px;margin: -1px;overflow: hidden;padding: 0;position: absolute;width: 1px;}#sk-container-id-30 div.sk-estimator {font-family: monospace;background-color: #f0f8ff;border: 1px dotted black;border-radius: 0.25em;box-sizing: border-box;margin-bottom: 0.5em;}#sk-container-id-30 div.sk-estimator:hover {background-color: #d4ebff;}#sk-container-id-30 div.sk-parallel-item::after {content: \"\";width: 100%;border-bottom: 1px solid gray;flex-grow: 1;}#sk-container-id-30 div.sk-label:hover label.sk-toggleable__label {background-color: #d4ebff;}#sk-container-id-30 div.sk-serial::before {content: \"\";position: absolute;border-left: 1px solid gray;box-sizing: border-box;top: 0;bottom: 0;left: 50%;z-index: 0;}#sk-container-id-30 div.sk-serial {display: flex;flex-direction: column;align-items: center;background-color: white;padding-right: 0.2em;padding-left: 0.2em;position: relative;}#sk-container-id-30 div.sk-item {position: relative;z-index: 1;}#sk-container-id-30 div.sk-parallel {display: flex;align-items: stretch;justify-content: center;background-color: white;position: relative;}#sk-container-id-30 div.sk-item::before, #sk-container-id-30 div.sk-parallel-item::before {content: \"\";position: absolute;border-left: 1px solid gray;box-sizing: border-box;top: 0;bottom: 0;left: 50%;z-index: -1;}#sk-container-id-30 div.sk-parallel-item {display: flex;flex-direction: column;z-index: 1;position: relative;background-color: white;}#sk-container-id-30 div.sk-parallel-item:first-child::after {align-self: flex-end;width: 50%;}#sk-container-id-30 div.sk-parallel-item:last-child::after {align-self: flex-start;width: 50%;}#sk-container-id-30 div.sk-parallel-item:only-child::after {width: 0;}#sk-container-id-30 div.sk-dashed-wrapped {border: 1px dashed gray;margin: 0 0.4em 0.5em 0.4em;box-sizing: border-box;padding-bottom: 0.4em;background-color: white;}#sk-container-id-30 div.sk-label label {font-family: monospace;font-weight: bold;display: inline-block;line-height: 1.2em;}#sk-container-id-30 div.sk-label-container {text-align: center;}#sk-container-id-30 div.sk-container {/* jupyter's `normalize.less` sets `[hidden] { display: none; }` but bootstrap.min.css set `[hidden] { display: none !important; }` so we also need the `!important` here to be able to override the default hidden behavior on the sphinx rendered scikit-learn.org. See: https://github.com/scikit-learn/scikit-learn/issues/21755 */display: inline-block !important;position: relative;}#sk-container-id-30 div.sk-text-repr-fallback {display: none;}</style><div id=\"sk-container-id-30\" class=\"sk-top-container\"><div class=\"sk-text-repr-fallback\"><pre>RandomForestClassifier(class_weight=&#x27;balanced_subsample&#x27;, max_leaf_nodes=500,\n",
       "                       max_samples=800, n_estimators=500, n_jobs=-1)</pre><b>In a Jupyter environment, please rerun this cell to show the HTML representation or trust the notebook. <br />On GitHub, the HTML representation is unable to render, please try loading this page with nbviewer.org.</b></div><div class=\"sk-container\" hidden><div class=\"sk-item\"><div class=\"sk-estimator sk-toggleable\"><input class=\"sk-toggleable__control sk-hidden--visually\" id=\"sk-estimator-id-30\" type=\"checkbox\" checked><label for=\"sk-estimator-id-30\" class=\"sk-toggleable__label sk-toggleable__label-arrow\">RandomForestClassifier</label><div class=\"sk-toggleable__content\"><pre>RandomForestClassifier(class_weight=&#x27;balanced_subsample&#x27;, max_leaf_nodes=500,\n",
       "                       max_samples=800, n_estimators=500, n_jobs=-1)</pre></div></div></div></div></div>"
      ],
      "text/plain": [
       "RandomForestClassifier(class_weight='balanced_subsample', max_leaf_nodes=500,\n",
       "                       max_samples=800, n_estimators=500, n_jobs=-1)"
      ]
     },
     "execution_count": 117,
     "metadata": {},
     "output_type": "execute_result"
    }
   ],
   "source": [
    "RF_n = RandomForestClassifier(class_weight = \"balanced_subsample\",\n",
    "                            n_estimators=500, max_leaf_nodes = 500, n_jobs = -1, max_samples = 800)\n",
    "RF_n.fit(X_train_n.values, y_train_n)"
   ]
  },
  {
   "cell_type": "code",
   "execution_count": 118,
   "metadata": {},
   "outputs": [
    {
     "name": "stdout",
     "output_type": "stream",
     "text": [
      "\n",
      "Train Accuracy: 78.92%\n",
      "Test Accuracy: 78.91%\n"
     ]
    }
   ],
   "source": [
    "accuracy_train = accuracy_score(y_train_n, RF_n.predict(X_train_n.values))\n",
    "print('\\nTrain Accuracy:{: .2f}%'.format(accuracy_train*100))\n",
    "accuracy_test = accuracy_score(y_test_n, RF_n.predict(X_test_n.values))\n",
    "print('Test Accuracy:{: .2f}%'.format(accuracy_test*100))"
   ]
  },
  {
   "cell_type": "code",
   "execution_count": 119,
   "metadata": {},
   "outputs": [
    {
     "name": "stdout",
     "output_type": "stream",
     "text": [
      "0.8337765125837058\n",
      "0.789148024750119\n",
      "0.6998672317246871\n"
     ]
    }
   ],
   "source": [
    "precision = precision_score(y_test_n, RF_n.predict(X_test_n.values), average='weighted')\n",
    "print(precision)\n",
    "recall = recall_score(y_test_n, RF_n.predict(X_test_n.values), average='weighted')\n",
    "print(recall)\n",
    "score = f1_score(y_test_n, RF_n.predict(X_test_n.values), average='weighted')\n",
    "print(score)\n",
    "#'micro', macro', 'weighted'"
   ]
  },
  {
   "cell_type": "code",
   "execution_count": 120,
   "metadata": {},
   "outputs": [
    {
     "data": {
      "image/png": "[encoded data removed]",
      "text/plain": [
       "<Figure size 432x288 with 2 Axes>"
      ]
     },
     "metadata": {
      "needs_background": "light"
     },
     "output_type": "display_data"
    }
   ],
   "source": [
    "cf_matrix = confusion_matrix(y_test_n, RF_n.predict(X_test_n.values))\n",
    "ax = sns.heatmap(cf_matrix/np.sum(cf_matrix), annot=True, \n",
    "            fmt='.2%', cmap='Blues')\n",
    "\n",
    "ax.set_title('Seaborn Confusion Matrix with labels\\n\\n');\n",
    "ax.set_xlabel('\\nPredicted Values')\n",
    "ax.set_ylabel('Actual Values ');\n",
    "\n",
    "plt.show()"
   ]
  },
  {
   "cell_type": "markdown",
   "metadata": {},
   "source": [
    "## KNN"
   ]
  },
  {
   "cell_type": "markdown",
   "metadata": {},
   "source": [
    "##### with sampling"
   ]
  },
  {
   "cell_type": "code",
   "execution_count": 144,
   "metadata": {},
   "outputs": [
    {
     "data": {
      "text/html": [
       "<style>#sk-container-id-41 {color: black;background-color: white;}#sk-container-id-41 pre{padding: 0;}#sk-container-id-41 div.sk-toggleable {background-color: white;}#sk-container-id-41 label.sk-toggleable__label {cursor: pointer;display: block;width: 100%;margin-bottom: 0;padding: 0.3em;box-sizing: border-box;text-align: center;}#sk-container-id-41 label.sk-toggleable__label-arrow:before {content: \"▸\";float: left;margin-right: 0.25em;color: #696969;}#sk-container-id-41 label.sk-toggleable__label-arrow:hover:before {color: black;}#sk-container-id-41 div.sk-estimator:hover label.sk-toggleable__label-arrow:before {color: black;}#sk-container-id-41 div.sk-toggleable__content {max-height: 0;max-width: 0;overflow: hidden;text-align: left;background-color: #f0f8ff;}#sk-container-id-41 div.sk-toggleable__content pre {margin: 0.2em;color: black;border-radius: 0.25em;background-color: #f0f8ff;}#sk-container-id-41 input.sk-toggleable__control:checked~div.sk-toggleable__content {max-height: 200px;max-width: 100%;overflow: auto;}#sk-container-id-41 input.sk-toggleable__control:checked~label.sk-toggleable__label-arrow:before {content: \"▾\";}#sk-container-id-41 div.sk-estimator input.sk-toggleable__control:checked~label.sk-toggleable__label {background-color: #d4ebff;}#sk-container-id-41 div.sk-label input.sk-toggleable__control:checked~label.sk-toggleable__label {background-color: #d4ebff;}#sk-container-id-41 input.sk-hidden--visually {border: 0;clip: rect(1px 1px 1px 1px);clip: rect(1px, 1px, 1px, 1px);height: 1px;margin: -1px;overflow: hidden;padding: 0;position: absolute;width: 1px;}#sk-container-id-41 div.sk-estimator {font-family: monospace;background-color: #f0f8ff;border: 1px dotted black;border-radius: 0.25em;box-sizing: border-box;margin-bottom: 0.5em;}#sk-container-id-41 div.sk-estimator:hover {background-color: #d4ebff;}#sk-container-id-41 div.sk-parallel-item::after {content: \"\";width: 100%;border-bottom: 1px solid gray;flex-grow: 1;}#sk-container-id-41 div.sk-label:hover label.sk-toggleable__label {background-color: #d4ebff;}#sk-container-id-41 div.sk-serial::before {content: \"\";position: absolute;border-left: 1px solid gray;box-sizing: border-box;top: 0;bottom: 0;left: 50%;z-index: 0;}#sk-container-id-41 div.sk-serial {display: flex;flex-direction: column;align-items: center;background-color: white;padding-right: 0.2em;padding-left: 0.2em;position: relative;}#sk-container-id-41 div.sk-item {position: relative;z-index: 1;}#sk-container-id-41 div.sk-parallel {display: flex;align-items: stretch;justify-content: center;background-color: white;position: relative;}#sk-container-id-41 div.sk-item::before, #sk-container-id-41 div.sk-parallel-item::before {content: \"\";position: absolute;border-left: 1px solid gray;box-sizing: border-box;top: 0;bottom: 0;left: 50%;z-index: -1;}#sk-container-id-41 div.sk-parallel-item {display: flex;flex-direction: column;z-index: 1;position: relative;background-color: white;}#sk-container-id-41 div.sk-parallel-item:first-child::after {align-self: flex-end;width: 50%;}#sk-container-id-41 div.sk-parallel-item:last-child::after {align-self: flex-start;width: 50%;}#sk-container-id-41 div.sk-parallel-item:only-child::after {width: 0;}#sk-container-id-41 div.sk-dashed-wrapped {border: 1px dashed gray;margin: 0 0.4em 0.5em 0.4em;box-sizing: border-box;padding-bottom: 0.4em;background-color: white;}#sk-container-id-41 div.sk-label label {font-family: monospace;font-weight: bold;display: inline-block;line-height: 1.2em;}#sk-container-id-41 div.sk-label-container {text-align: center;}#sk-container-id-41 div.sk-container {/* jupyter's `normalize.less` sets `[hidden] { display: none; }` but bootstrap.min.css set `[hidden] { display: none !important; }` so we also need the `!important` here to be able to override the default hidden behavior on the sphinx rendered scikit-learn.org. See: https://github.com/scikit-learn/scikit-learn/issues/21755 */display: inline-block !important;position: relative;}#sk-container-id-41 div.sk-text-repr-fallback {display: none;}</style><div id=\"sk-container-id-41\" class=\"sk-top-container\"><div class=\"sk-text-repr-fallback\"><pre>KNeighborsClassifier(n_jobs=-1)</pre><b>In a Jupyter environment, please rerun this cell to show the HTML representation or trust the notebook. <br />On GitHub, the HTML representation is unable to render, please try loading this page with nbviewer.org.</b></div><div class=\"sk-container\" hidden><div class=\"sk-item\"><div class=\"sk-estimator sk-toggleable\"><input class=\"sk-toggleable__control sk-hidden--visually\" id=\"sk-estimator-id-41\" type=\"checkbox\" checked><label for=\"sk-estimator-id-41\" class=\"sk-toggleable__label sk-toggleable__label-arrow\">KNeighborsClassifier</label><div class=\"sk-toggleable__content\"><pre>KNeighborsClassifier(n_jobs=-1)</pre></div></div></div></div></div>"
      ],
      "text/plain": [
       "KNeighborsClassifier(n_jobs=-1)"
      ]
     },
     "execution_count": 144,
     "metadata": {},
     "output_type": "execute_result"
    }
   ],
   "source": [
    "knn = KNeighborsClassifier(n_jobs = -1)\n",
    "knn.fit(X_train_s.values, y_train_s)"
   ]
  },
  {
   "cell_type": "code",
   "execution_count": 145,
   "metadata": {},
   "outputs": [
    {
     "name": "stdout",
     "output_type": "stream",
     "text": [
      "\n",
      "Train Accuracy: 65.76%\n",
      "Test Accuracy: 63.39%\n"
     ]
    }
   ],
   "source": [
    "accuracy_train_knn = accuracy_score(y_train_s, knn.predict(X_train_s.values))\n",
    "print('\\nTrain Accuracy:{: .2f}%'.format(accuracy_train_knn*100))\n",
    "accuracy_test_knn = accuracy_score(y_test_s, knn.predict(X_test_s.values))\n",
    "print('Test Accuracy:{: .2f}%'.format(accuracy_test_knn*100))"
   ]
  },
  {
   "cell_type": "code",
   "execution_count": 146,
   "metadata": {},
   "outputs": [
    {
     "name": "stdout",
     "output_type": "stream",
     "text": [
      "0.6338888888888888\n",
      "0.6338888888888888\n",
      "0.6338888888888888\n"
     ]
    }
   ],
   "source": [
    "precision = precision_score(y_test_s, knn.predict(X_test_s.values), average='micro')\n",
    "print(precision)\n",
    "recall = recall_score(y_test_s, knn.predict(X_test_s.values), average='micro')\n",
    "print(recall)\n",
    "score = f1_score(y_test_s, knn.predict(X_test_s.values), average='micro')\n",
    "print(score)\n",
    "#'micro', macro', 'weighted'"
   ]
  },
  {
   "cell_type": "code",
   "execution_count": 147,
   "metadata": {},
   "outputs": [
    {
     "data": {
      "image/png": "[encoded data removed]",
      "text/plain": [
       "<Figure size 432x288 with 2 Axes>"
      ]
     },
     "metadata": {
      "needs_background": "light"
     },
     "output_type": "display_data"
    }
   ],
   "source": [
    "cf_matrix = confusion_matrix(y_test_s, knn.predict(X_test_s.values))\n",
    "ax = sns.heatmap(cf_matrix/np.sum(cf_matrix), annot=True, \n",
    "            fmt='.2%', cmap='Blues')\n",
    "\n",
    "ax.set_title('Seaborn Confusion Matrix with labels\\n\\n');\n",
    "ax.set_xlabel('\\nPredicted Values')\n",
    "ax.set_ylabel('Actual Values ');\n",
    "\n",
    "plt.show()"
   ]
  },
  {
   "cell_type": "markdown",
   "metadata": {},
   "source": [
    "##### without sampling"
   ]
  },
  {
   "cell_type": "code",
   "execution_count": 148,
   "metadata": {},
   "outputs": [
    {
     "data": {
      "text/html": [
       "<style>#sk-container-id-42 {color: black;background-color: white;}#sk-container-id-42 pre{padding: 0;}#sk-container-id-42 div.sk-toggleable {background-color: white;}#sk-container-id-42 label.sk-toggleable__label {cursor: pointer;display: block;width: 100%;margin-bottom: 0;padding: 0.3em;box-sizing: border-box;text-align: center;}#sk-container-id-42 label.sk-toggleable__label-arrow:before {content: \"▸\";float: left;margin-right: 0.25em;color: #696969;}#sk-container-id-42 label.sk-toggleable__label-arrow:hover:before {color: black;}#sk-container-id-42 div.sk-estimator:hover label.sk-toggleable__label-arrow:before {color: black;}#sk-container-id-42 div.sk-toggleable__content {max-height: 0;max-width: 0;overflow: hidden;text-align: left;background-color: #f0f8ff;}#sk-container-id-42 div.sk-toggleable__content pre {margin: 0.2em;color: black;border-radius: 0.25em;background-color: #f0f8ff;}#sk-container-id-42 input.sk-toggleable__control:checked~div.sk-toggleable__content {max-height: 200px;max-width: 100%;overflow: auto;}#sk-container-id-42 input.sk-toggleable__control:checked~label.sk-toggleable__label-arrow:before {content: \"▾\";}#sk-container-id-42 div.sk-estimator input.sk-toggleable__control:checked~label.sk-toggleable__label {background-color: #d4ebff;}#sk-container-id-42 div.sk-label input.sk-toggleable__control:checked~label.sk-toggleable__label {background-color: #d4ebff;}#sk-container-id-42 input.sk-hidden--visually {border: 0;clip: rect(1px 1px 1px 1px);clip: rect(1px, 1px, 1px, 1px);height: 1px;margin: -1px;overflow: hidden;padding: 0;position: absolute;width: 1px;}#sk-container-id-42 div.sk-estimator {font-family: monospace;background-color: #f0f8ff;border: 1px dotted black;border-radius: 0.25em;box-sizing: border-box;margin-bottom: 0.5em;}#sk-container-id-42 div.sk-estimator:hover {background-color: #d4ebff;}#sk-container-id-42 div.sk-parallel-item::after {content: \"\";width: 100%;border-bottom: 1px solid gray;flex-grow: 1;}#sk-container-id-42 div.sk-label:hover label.sk-toggleable__label {background-color: #d4ebff;}#sk-container-id-42 div.sk-serial::before {content: \"\";position: absolute;border-left: 1px solid gray;box-sizing: border-box;top: 0;bottom: 0;left: 50%;z-index: 0;}#sk-container-id-42 div.sk-serial {display: flex;flex-direction: column;align-items: center;background-color: white;padding-right: 0.2em;padding-left: 0.2em;position: relative;}#sk-container-id-42 div.sk-item {position: relative;z-index: 1;}#sk-container-id-42 div.sk-parallel {display: flex;align-items: stretch;justify-content: center;background-color: white;position: relative;}#sk-container-id-42 div.sk-item::before, #sk-container-id-42 div.sk-parallel-item::before {content: \"\";position: absolute;border-left: 1px solid gray;box-sizing: border-box;top: 0;bottom: 0;left: 50%;z-index: -1;}#sk-container-id-42 div.sk-parallel-item {display: flex;flex-direction: column;z-index: 1;position: relative;background-color: white;}#sk-container-id-42 div.sk-parallel-item:first-child::after {align-self: flex-end;width: 50%;}#sk-container-id-42 div.sk-parallel-item:last-child::after {align-self: flex-start;width: 50%;}#sk-container-id-42 div.sk-parallel-item:only-child::after {width: 0;}#sk-container-id-42 div.sk-dashed-wrapped {border: 1px dashed gray;margin: 0 0.4em 0.5em 0.4em;box-sizing: border-box;padding-bottom: 0.4em;background-color: white;}#sk-container-id-42 div.sk-label label {font-family: monospace;font-weight: bold;display: inline-block;line-height: 1.2em;}#sk-container-id-42 div.sk-label-container {text-align: center;}#sk-container-id-42 div.sk-container {/* jupyter's `normalize.less` sets `[hidden] { display: none; }` but bootstrap.min.css set `[hidden] { display: none !important; }` so we also need the `!important` here to be able to override the default hidden behavior on the sphinx rendered scikit-learn.org. See: https://github.com/scikit-learn/scikit-learn/issues/21755 */display: inline-block !important;position: relative;}#sk-container-id-42 div.sk-text-repr-fallback {display: none;}</style><div id=\"sk-container-id-42\" class=\"sk-top-container\"><div class=\"sk-text-repr-fallback\"><pre>KNeighborsClassifier(n_jobs=-1)</pre><b>In a Jupyter environment, please rerun this cell to show the HTML representation or trust the notebook. <br />On GitHub, the HTML representation is unable to render, please try loading this page with nbviewer.org.</b></div><div class=\"sk-container\" hidden><div class=\"sk-item\"><div class=\"sk-estimator sk-toggleable\"><input class=\"sk-toggleable__control sk-hidden--visually\" id=\"sk-estimator-id-42\" type=\"checkbox\" checked><label for=\"sk-estimator-id-42\" class=\"sk-toggleable__label sk-toggleable__label-arrow\">KNeighborsClassifier</label><div class=\"sk-toggleable__content\"><pre>KNeighborsClassifier(n_jobs=-1)</pre></div></div></div></div></div>"
      ],
      "text/plain": [
       "KNeighborsClassifier(n_jobs=-1)"
      ]
     },
     "execution_count": 148,
     "metadata": {},
     "output_type": "execute_result"
    }
   ],
   "source": [
    "knn_n = KNeighborsClassifier(n_jobs = -1)\n",
    "knn_n.fit(X_train_n.values, y_train_n)"
   ]
  },
  {
   "cell_type": "code",
   "execution_count": 149,
   "metadata": {},
   "outputs": [
    {
     "name": "stdout",
     "output_type": "stream",
     "text": [
      "\n",
      "Train Accuracy: 84.04%\n",
      "Test Accuracy: 78.11%\n"
     ]
    }
   ],
   "source": [
    "accuracy_train = accuracy_score(y_train_n, knn_n.predict(X_train_n.values))\n",
    "print('\\nTrain Accuracy:{: .2f}%'.format(accuracy_train*100))\n",
    "accuracy_test = accuracy_score(y_test_n, knn_n.predict(X_test_n.values))\n",
    "print('Test Accuracy:{: .2f}%'.format(accuracy_test*100))"
   ]
  },
  {
   "cell_type": "code",
   "execution_count": 153,
   "metadata": {},
   "outputs": [
    {
     "name": "stdout",
     "output_type": "stream",
     "text": [
      "0.7265629566538908\n",
      "0.7810566396953832\n",
      "0.7447561953810942\n"
     ]
    }
   ],
   "source": [
    "precision = precision_score(y_test_n, knn_n.predict(X_test_n.values), average='weighted')\n",
    "print(precision)\n",
    "recall = recall_score(y_test_n, knn_n.predict(X_test_n.values), average='weighted')\n",
    "print(recall)\n",
    "score = f1_score(y_test_n, knn_n.predict(X_test_n.values), average='weighted')\n",
    "print(score)\n",
    "#'micro', macro', 'weighted'"
   ]
  },
  {
   "cell_type": "code",
   "execution_count": 151,
   "metadata": {},
   "outputs": [
    {
     "data": {
      "image/png": "[encoded data removed]",
      "text/plain": [
       "<Figure size 432x288 with 2 Axes>"
      ]
     },
     "metadata": {
      "needs_background": "light"
     },
     "output_type": "display_data"
    }
   ],
   "source": [
    "cf_matrix = confusion_matrix(y_test_n, knn_n.predict(X_test_n.values))\n",
    "ax = sns.heatmap(cf_matrix/np.sum(cf_matrix), annot=True, \n",
    "            fmt='.2%', cmap='Blues')\n",
    "\n",
    "ax.set_title('Seaborn Confusion Matrix with labels\\n\\n');\n",
    "ax.set_xlabel('\\nPredicted Values')\n",
    "ax.set_ylabel('Actual Values ');\n",
    "\n",
    "plt.show()"
   ]
  },
  {
   "cell_type": "markdown",
   "metadata": {},
   "source": [
    "## DNN"
   ]
  },
  {
   "cell_type": "markdown",
   "metadata": {},
   "source": [
    "##### with sampling"
   ]
  },
  {
   "cell_type": "code",
   "execution_count": 155,
   "metadata": {},
   "outputs": [],
   "source": [
    "model = tf.keras.models.Sequential()\n",
    "\n",
    "model.add(tf.keras.layers.Dense(32, input_shape = (24320, ),activation=tf.nn.relu))\n",
    "model.add(tf.keras.layers.Dropout(0.5))\n",
    "\n",
    "model.add(tf.keras.layers.Dense(16,activation=tf.nn.sigmoid))\n",
    "model.add(tf.keras.layers.Dropout(0.2))\n",
    "model.add(tf.keras.layers.Dense(3, activation=tf.nn.softmax))\n",
    "\n"
   ]
  },
  {
   "cell_type": "code",
   "execution_count": 156,
   "metadata": {},
   "outputs": [],
   "source": [
    "model.compile(loss='sparse_categorical_crossentropy', optimizer='adam', metrics=['accuracy'])"
   ]
  },
  {
   "cell_type": "code",
   "execution_count": 157,
   "metadata": {},
   "outputs": [
    {
     "name": "stdout",
     "output_type": "stream",
     "text": [
      "Epoch 1/5\n",
      "180/180 [==============================] - 48s 263ms/step - loss: 1.0089 - accuracy: 0.4729 - val_loss: 0.7355 - val_accuracy: 0.6403\n",
      "Epoch 2/5\n",
      "180/180 [==============================] - 54s 299ms/step - loss: 0.8489 - accuracy: 0.5648 - val_loss: 0.6826 - val_accuracy: 0.6660\n",
      "Epoch 3/5\n",
      "180/180 [==============================] - 46s 253ms/step - loss: 0.7916 - accuracy: 0.5863 - val_loss: 0.6310 - val_accuracy: 0.6722\n",
      "Epoch 4/5\n",
      "180/180 [==============================] - 44s 247ms/step - loss: 0.7689 - accuracy: 0.5969 - val_loss: 0.6249 - val_accuracy: 0.6681\n",
      "Epoch 5/5\n",
      "180/180 [==============================] - 46s 256ms/step - loss: 0.7330 - accuracy: 0.6090 - val_loss: 0.6031 - val_accuracy: 0.7035\n"
     ]
    },
    {
     "data": {
      "text/plain": [
       "<keras.callbacks.History at 0x1c90dfa3b50>"
      ]
     },
     "execution_count": 157,
     "metadata": {},
     "output_type": "execute_result"
    }
   ],
   "source": [
    "model.fit(X_train_s, y_train_s, epochs=5, validation_split=0.20, verbose =1)"
   ]
  },
  {
   "cell_type": "code",
   "execution_count": 158,
   "metadata": {},
   "outputs": [
    {
     "name": "stdout",
     "output_type": "stream",
     "text": [
      "Epoch 1/5\n",
      "180/180 [==============================] - 45s 249ms/step - loss: 0.7042 - accuracy: 0.6198 - val_loss: 0.5871 - val_accuracy: 0.6840\n",
      "Epoch 2/5\n",
      "180/180 [==============================] - 44s 243ms/step - loss: 0.6923 - accuracy: 0.6356 - val_loss: 0.5833 - val_accuracy: 0.6931\n",
      "Epoch 3/5\n",
      "180/180 [==============================] - 44s 245ms/step - loss: 0.6788 - accuracy: 0.6253 - val_loss: 0.5721 - val_accuracy: 0.7139\n",
      "Epoch 4/5\n",
      "180/180 [==============================] - 48s 267ms/step - loss: 0.6830 - accuracy: 0.6295 - val_loss: 0.5860 - val_accuracy: 0.7042\n",
      "Epoch 5/5\n",
      "180/180 [==============================] - 46s 257ms/step - loss: 0.6650 - accuracy: 0.6368 - val_loss: 0.5802 - val_accuracy: 0.6694\n"
     ]
    },
    {
     "data": {
      "text/plain": [
       "<keras.callbacks.History at 0x1c90fb3f670>"
      ]
     },
     "execution_count": 158,
     "metadata": {},
     "output_type": "execute_result"
    }
   ],
   "source": [
    "model.fit(X_train_s, y_train_s, epochs=5, validation_split=0.20, verbose =1)"
   ]
  },
  {
   "cell_type": "code",
   "execution_count": 159,
   "metadata": {},
   "outputs": [
    {
     "name": "stdout",
     "output_type": "stream",
     "text": [
      "Epoch 1/5\n",
      "180/180 [==============================] - 38s 213ms/step - loss: 0.6562 - accuracy: 0.6406 - val_loss: 0.5634 - val_accuracy: 0.7194\n",
      "Epoch 2/5\n",
      "180/180 [==============================] - 37s 205ms/step - loss: 0.6512 - accuracy: 0.6410 - val_loss: 0.5750 - val_accuracy: 0.7146\n",
      "Epoch 3/5\n",
      "180/180 [==============================] - 43s 240ms/step - loss: 0.6580 - accuracy: 0.6408 - val_loss: 0.5525 - val_accuracy: 0.7243\n",
      "Epoch 4/5\n",
      "180/180 [==============================] - 44s 246ms/step - loss: 0.6477 - accuracy: 0.6457 - val_loss: 0.5511 - val_accuracy: 0.6944\n",
      "Epoch 5/5\n",
      "180/180 [==============================] - 44s 243ms/step - loss: 0.6367 - accuracy: 0.6425 - val_loss: 0.5463 - val_accuracy: 0.7292\n"
     ]
    },
    {
     "data": {
      "text/plain": [
       "<keras.callbacks.History at 0x1c90fbd8f40>"
      ]
     },
     "execution_count": 159,
     "metadata": {},
     "output_type": "execute_result"
    }
   ],
   "source": [
    "model.fit(X_train_s, y_train_s, epochs=5, validation_split=0.20, verbose =1)"
   ]
  },
  {
   "cell_type": "code",
   "execution_count": 161,
   "metadata": {},
   "outputs": [
    {
     "name": "stdout",
     "output_type": "stream",
     "text": [
      "Epoch 1/5\n",
      "180/180 [==============================] - 43s 241ms/step - loss: 0.6158 - accuracy: 0.6589 - val_loss: 0.5466 - val_accuracy: 0.7285\n",
      "Epoch 2/5\n",
      "180/180 [==============================] - 45s 248ms/step - loss: 0.6084 - accuracy: 0.6639 - val_loss: 0.5447 - val_accuracy: 0.7208\n",
      "Epoch 3/5\n",
      "180/180 [==============================] - 45s 248ms/step - loss: 0.6018 - accuracy: 0.6651 - val_loss: 0.5454 - val_accuracy: 0.7326\n",
      "Epoch 4/5\n",
      "180/180 [==============================] - 47s 263ms/step - loss: 0.6033 - accuracy: 0.6642 - val_loss: 0.5437 - val_accuracy: 0.6979\n",
      "Epoch 5/5\n",
      "180/180 [==============================] - 45s 250ms/step - loss: 0.5966 - accuracy: 0.6693 - val_loss: 0.5499 - val_accuracy: 0.7160\n"
     ]
    },
    {
     "data": {
      "text/plain": [
       "<keras.callbacks.History at 0x1c90fbc40d0>"
      ]
     },
     "execution_count": 161,
     "metadata": {},
     "output_type": "execute_result"
    }
   ],
   "source": [
    "model.fit(X_train_s, y_train_s, epochs=5, validation_split=0.20, verbose =1)"
   ]
  },
  {
   "cell_type": "code",
   "execution_count": 162,
   "metadata": {},
   "outputs": [
    {
     "name": "stdout",
     "output_type": "stream",
     "text": [
      "Test Accuracy: 0.734\n"
     ]
    }
   ],
   "source": [
    "loss, acc = model.evaluate(X_test_s, y_test_s, verbose=0)\n",
    "print('Test Accuracy: %.3f' % acc)"
   ]
  },
  {
   "cell_type": "code",
   "execution_count": 194,
   "metadata": {},
   "outputs": [],
   "source": [
    "predict_x=model.predict(X_test_s) \n",
    "classes_x=np.argmax(predict_x,axis=1)"
   ]
  },
  {
   "cell_type": "code",
   "execution_count": 195,
   "metadata": {},
   "outputs": [
    {
     "name": "stdout",
     "output_type": "stream",
     "text": [
      "0.7528105007592928\n",
      "0.7338888888888889\n",
      "0.7226096558217209\n"
     ]
    }
   ],
   "source": [
    "precision = precision_score(y_test_s, classes_x, average='weighted')\n",
    "print(precision)\n",
    "recall = recall_score(y_test_s, classes_x, average='weighted')\n",
    "print(recall)\n",
    "score = f1_score(y_test_s, classes_x, average='weighted')\n",
    "print(score)\n",
    "#'micro', macro', 'weighted'"
   ]
  },
  {
   "cell_type": "code",
   "execution_count": 187,
   "metadata": {},
   "outputs": [
    {
     "data": {
      "text/plain": [
       "array([[497,  95,   8],\n",
       "       [339, 247,  14],\n",
       "       [ 19,   4, 577]])"
      ]
     },
     "execution_count": 187,
     "metadata": {},
     "output_type": "execute_result"
    }
   ],
   "source": [
    "con_mat = tf.math.confusion_matrix(labels=y_test_s, predictions=classes_x).numpy()\n",
    "con_mat"
   ]
  },
  {
   "cell_type": "markdown",
   "metadata": {},
   "source": [
    "##### without sampling"
   ]
  },
  {
   "cell_type": "code",
   "execution_count": 174,
   "metadata": {},
   "outputs": [],
   "source": [
    "model_n = tf.keras.models.Sequential()\n",
    "\n",
    "model_n.add(tf.keras.layers.Dense(32, input_shape = (24320, ),activation=tf.nn.relu))\n",
    "model_n.add(tf.keras.layers.Dropout(0.5))\n",
    "\n",
    "model_n.add(tf.keras.layers.Dense(16,activation=tf.nn.sigmoid))\n",
    "model_n.add(tf.keras.layers.Dropout(0.2))\n",
    "model_n.add(tf.keras.layers.Dense(3, activation=tf.nn.softmax))\n"
   ]
  },
  {
   "cell_type": "code",
   "execution_count": 175,
   "metadata": {},
   "outputs": [],
   "source": [
    "model_n.compile(loss='sparse_categorical_crossentropy', optimizer='adam', metrics=['accuracy'])"
   ]
  },
  {
   "cell_type": "code",
   "execution_count": 176,
   "metadata": {},
   "outputs": [
    {
     "name": "stdout",
     "output_type": "stream",
     "text": [
      "Epoch 1/5\n",
      "211/211 [==============================] - 45s 210ms/step - loss: 10.1455 - accuracy: 0.3054 - val_loss: 1.0377 - val_accuracy: 0.3212\n",
      "Epoch 2/5\n",
      "211/211 [==============================] - 44s 206ms/step - loss: 9.3328 - accuracy: 0.3413 - val_loss: 0.8978 - val_accuracy: 0.5836\n",
      "Epoch 3/5\n",
      "211/211 [==============================] - 44s 207ms/step - loss: 8.7336 - accuracy: 0.4009 - val_loss: 0.8961 - val_accuracy: 0.6823\n",
      "Epoch 4/5\n",
      "211/211 [==============================] - 44s 208ms/step - loss: 8.3649 - accuracy: 0.4903 - val_loss: 0.8273 - val_accuracy: 0.6710\n",
      "Epoch 5/5\n",
      "211/211 [==============================] - 44s 210ms/step - loss: 8.2533 - accuracy: 0.5030 - val_loss: 0.8401 - val_accuracy: 0.6127\n"
     ]
    },
    {
     "data": {
      "text/plain": [
       "<keras.callbacks.History at 0x1c90fb9f8b0>"
      ]
     },
     "execution_count": 176,
     "metadata": {},
     "output_type": "execute_result"
    }
   ],
   "source": [
    "model_n.fit(X_train_n, y_train_n, epochs=5, validation_split=0.20, verbose =1, class_weight=our_dict)"
   ]
  },
  {
   "cell_type": "code",
   "execution_count": 177,
   "metadata": {},
   "outputs": [
    {
     "name": "stdout",
     "output_type": "stream",
     "text": [
      "Epoch 1/5\n",
      "211/211 [==============================] - 43s 205ms/step - loss: 7.9048 - accuracy: 0.4729 - val_loss: 0.7989 - val_accuracy: 0.7061\n",
      "Epoch 2/5\n",
      "211/211 [==============================] - 43s 204ms/step - loss: 7.9661 - accuracy: 0.5250 - val_loss: 0.7796 - val_accuracy: 0.7109\n",
      "Epoch 3/5\n",
      "211/211 [==============================] - 52s 248ms/step - loss: 7.7572 - accuracy: 0.5306 - val_loss: 0.7545 - val_accuracy: 0.7448\n",
      "Epoch 4/5\n",
      "211/211 [==============================] - 51s 243ms/step - loss: 7.6246 - accuracy: 0.4868 - val_loss: 0.7931 - val_accuracy: 0.7168\n",
      "Epoch 5/5\n",
      "211/211 [==============================] - 51s 244ms/step - loss: 7.5987 - accuracy: 0.5173 - val_loss: 0.8208 - val_accuracy: 0.5128\n"
     ]
    },
    {
     "data": {
      "text/plain": [
       "<keras.callbacks.History at 0x1c910057070>"
      ]
     },
     "execution_count": 177,
     "metadata": {},
     "output_type": "execute_result"
    }
   ],
   "source": [
    "model_n.fit(X_train_n, y_train_n, epochs=5, validation_split=0.20, verbose =1, class_weight=our_dict)"
   ]
  },
  {
   "cell_type": "code",
   "execution_count": 178,
   "metadata": {},
   "outputs": [
    {
     "name": "stdout",
     "output_type": "stream",
     "text": [
      "Epoch 1/5\n",
      "211/211 [==============================] - 46s 217ms/step - loss: 7.5317 - accuracy: 0.5022 - val_loss: 0.7768 - val_accuracy: 0.7573\n",
      "Epoch 2/5\n",
      "211/211 [==============================] - 51s 241ms/step - loss: 7.3178 - accuracy: 0.5360 - val_loss: 0.8057 - val_accuracy: 0.7037\n",
      "Epoch 3/5\n",
      "211/211 [==============================] - 50s 237ms/step - loss: 7.2251 - accuracy: 0.4961 - val_loss: 0.7739 - val_accuracy: 0.7680\n",
      "Epoch 4/5\n",
      "211/211 [==============================] - 51s 240ms/step - loss: 7.3800 - accuracy: 0.5553 - val_loss: 0.7656 - val_accuracy: 0.7549\n",
      "Epoch 5/5\n",
      "211/211 [==============================] - 63s 297ms/step - loss: 7.1438 - accuracy: 0.5073 - val_loss: 0.7409 - val_accuracy: 0.7936\n"
     ]
    },
    {
     "data": {
      "text/plain": [
       "<keras.callbacks.History at 0x1c91009e4f0>"
      ]
     },
     "execution_count": 178,
     "metadata": {},
     "output_type": "execute_result"
    }
   ],
   "source": [
    "model_n.fit(X_train_n, y_train_n, epochs=5, validation_split=0.20, verbose =1, class_weight=our_dict)"
   ]
  },
  {
   "cell_type": "code",
   "execution_count": 184,
   "metadata": {},
   "outputs": [
    {
     "name": "stdout",
     "output_type": "stream",
     "text": [
      "Epoch 1/5\n",
      "211/211 [==============================] - 51s 240ms/step - loss: 6.9813 - accuracy: 0.5756 - val_loss: 0.7590 - val_accuracy: 0.7531\n",
      "Epoch 2/5\n",
      "211/211 [==============================] - 50s 237ms/step - loss: 6.9923 - accuracy: 0.5437 - val_loss: 0.7699 - val_accuracy: 0.6913\n",
      "Epoch 3/5\n",
      "211/211 [==============================] - 60s 287ms/step - loss: 6.9959 - accuracy: 0.5244 - val_loss: 0.7584 - val_accuracy: 0.7965\n",
      "Epoch 4/5\n",
      "211/211 [==============================] - 51s 244ms/step - loss: 7.2205 - accuracy: 0.6003 - val_loss: 0.7912 - val_accuracy: 0.6675\n",
      "Epoch 5/5\n",
      "211/211 [==============================] - 53s 250ms/step - loss: 6.8795 - accuracy: 0.4900 - val_loss: 0.7459 - val_accuracy: 0.7680  - ETA: 0s - loss: 6.8804 - accuracy: 0.\n"
     ]
    },
    {
     "data": {
      "text/plain": [
       "<keras.callbacks.History at 0x1c910076eb0>"
      ]
     },
     "execution_count": 184,
     "metadata": {},
     "output_type": "execute_result"
    }
   ],
   "source": [
    "model_n.fit(X_train_n, y_train_n, epochs=5, validation_split=0.20, verbose =1, class_weight=our_dict)"
   ]
  },
  {
   "cell_type": "code",
   "execution_count": 196,
   "metadata": {},
   "outputs": [
    {
     "name": "stdout",
     "output_type": "stream",
     "text": [
      "Epoch 1/5\n",
      "211/211 [==============================] - 44s 211ms/step - loss: 6.7675 - accuracy: 0.5269 - val_loss: 0.8156 - val_accuracy: 0.7823\n",
      "Epoch 2/5\n",
      "211/211 [==============================] - 43s 204ms/step - loss: 6.8710 - accuracy: 0.5783 - val_loss: 0.7976 - val_accuracy: 0.7674\n",
      "Epoch 3/5\n",
      "211/211 [==============================] - 43s 205ms/step - loss: 6.8733 - accuracy: 0.6093 - val_loss: 0.7631 - val_accuracy: 0.7525\n",
      "Epoch 4/5\n",
      "211/211 [==============================] - 43s 205ms/step - loss: 6.8316 - accuracy: 0.5531 - val_loss: 0.7630 - val_accuracy: 0.7287\n",
      "Epoch 5/5\n",
      "211/211 [==============================] - 49s 230ms/step - loss: 7.1667 - accuracy: 0.5317 - val_loss: 0.7217 - val_accuracy: 0.7365\n"
     ]
    },
    {
     "data": {
      "text/plain": [
       "<keras.callbacks.History at 0x1c91006d160>"
      ]
     },
     "execution_count": 196,
     "metadata": {},
     "output_type": "execute_result"
    }
   ],
   "source": [
    "model_n.fit(X_train_n, y_train_n, epochs=5, validation_split=0.20, verbose =1, class_weight=our_dict)"
   ]
  },
  {
   "cell_type": "code",
   "execution_count": 197,
   "metadata": {},
   "outputs": [
    {
     "name": "stdout",
     "output_type": "stream",
     "text": [
      "Test Accuracy: 0.687\n"
     ]
    }
   ],
   "source": [
    "loss, acc = model_n.evaluate(X_test_n, y_test_n, verbose=0)\n",
    "print('Test Accuracy: %.3f' % acc)"
   ]
  },
  {
   "cell_type": "code",
   "execution_count": 199,
   "metadata": {},
   "outputs": [],
   "source": [
    "predict_x_n=model_n.predict(X_test_n) \n",
    "classes_x_n=np.argmax(predict_x_n,axis=1)"
   ]
  },
  {
   "cell_type": "code",
   "execution_count": 200,
   "metadata": {},
   "outputs": [
    {
     "name": "stdout",
     "output_type": "stream",
     "text": [
      "0.7184848478443124\n",
      "0.6872917658257972\n",
      "0.7008608520684928\n"
     ]
    }
   ],
   "source": [
    "precision = precision_score(y_test_n, classes_x_n, average='weighted')\n",
    "print(precision)\n",
    "recall = recall_score(y_test_n, classes_x_n, average='weighted')\n",
    "print(recall)\n",
    "score = f1_score(y_test_n, classes_x_n, average='weighted')\n",
    "print(score)\n",
    "#'micro', macro', 'weighted'"
   ]
  },
  {
   "cell_type": "code",
   "execution_count": 201,
   "metadata": {},
   "outputs": [
    {
     "data": {
      "text/plain": [
       "array([[  79,  229,   22],\n",
       "       [ 320, 1279,   51],\n",
       "       [  15,   20,   86]])"
      ]
     },
     "execution_count": 201,
     "metadata": {},
     "output_type": "execute_result"
    }
   ],
   "source": [
    "con_mat = tf.math.confusion_matrix(labels=y_test_n, predictions=classes_x_n).numpy()\n",
    "con_mat"
   ]
  },
  {
   "cell_type": "markdown",
   "metadata": {},
   "source": [
    "# Save Model"
   ]
  },
  {
   "cell_type": "code",
   "execution_count": null,
   "metadata": {},
   "outputs": [],
   "source": [
    "# filename = 'RandomForestModelbyjob.joblib'\n",
    "\n",
    "# joblib.dump(RF, filename)"
   ]
  },
  {
   "cell_type": "code",
   "execution_count": null,
   "metadata": {},
   "outputs": [],
   "source": [
    "# filename = 'RandomForestModel.sav'\n",
    "\n",
    "# loaded_model = pickle.load(open(filename, 'rb'))\n",
    "# result = loaded_model.predict()\n",
    "# print(result)"
   ]
  },
  {
   "cell_type": "markdown",
   "metadata": {},
   "source": [
    "# Testing"
   ]
  },
  {
   "cell_type": "code",
   "execution_count": 43,
   "metadata": {},
   "outputs": [],
   "source": [
    "testlist=['13/1/2015 :: نايل نبيل :: الحالة رجل 31 سنة متزوج ويعول طفلين ويعمل حارس عقار ويتقاضى 500ج بالاضافه لبعض المساعدات البسيطة من اصحاب السيارات ولديه مشكلة في السمع وقد اجرى كشف طبي على اذنيه ومطلوب منه قياس سمعي ولكن بسبب ضيق الحال لم يستطع ان يجريه وذلك لمعرفة مقياس السماعة الحالة رجل 31 سنة متزوج ويعول طفلين ويعمل حارس عقار ويتقاضى 500ج بالاضافه لبعض المساعدات البسيطة من اصحاب السيارات ولديه مشكلة في السمع وقد اجرى كشف طبي على اذنيه ومطلوب منه قياس سمعي ولكن بسبب ضيق الحال لم يستطع ان يجريه وذلك لمعرفة مقياس السماعة']\n",
    "y = pd.DataFrame(testlist, columns =['text'])\n",
    "y = spark.createDataFrame(y)\n",
    "\n",
    "testing_df = nlp_function(y, True)"
   ]
  },
  {
   "cell_type": "code",
   "execution_count": 106,
   "metadata": {},
   "outputs": [
    {
     "data": {
      "text/plain": [
       "array([2])"
      ]
     },
     "execution_count": 106,
     "metadata": {},
     "output_type": "execute_result"
    }
   ],
   "source": [
    "RF.predict([testing_df])"
   ]
  }
 ],
 "metadata": {
  "kernelspec": {
   "display_name": "Python [conda env:myenv]",
   "language": "python",
   "name": "conda-env-myenv-py"
  },
  "language_info": {
   "codemirror_mode": {
    "name": "ipython",
    "version": 3
   },
   "file_extension": ".py",
   "mimetype": "text/x-python",
   "name": "python",
   "nbconvert_exporter": "python",
   "pygments_lexer": "ipython3",
   "version": "3.8.12"
  }
 },
 "nbformat": 4,
 "nbformat_minor": 4
}
