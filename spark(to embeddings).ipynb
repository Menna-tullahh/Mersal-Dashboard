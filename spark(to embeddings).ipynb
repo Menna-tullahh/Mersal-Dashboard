{
 "cells": [
  {
   "cell_type": "code",
   "execution_count": null,
   "metadata": {
    "id": "z53Y5u8sgz4q"
   },
   "outputs": [],
   "source": [
    "# ! pip install -q pyspark==3.1.2 spark-nlp"
   ]
  },
  {
   "cell_type": "code",
   "execution_count": 1,
   "metadata": {
    "id": "FsBETVUbhASm"
   },
   "outputs": [],
   "source": [
    "from sparknlp.base import *\n",
    "from sparknlp.annotator import *\n",
    "from sparknlp.pretrained import PretrainedPipeline\n",
    "import sparknlp"
   ]
  },
  {
   "cell_type": "code",
   "execution_count": null,
   "metadata": {},
   "outputs": [],
   "source": []
  },
  {
   "cell_type": "code",
   "execution_count": 2,
   "metadata": {},
   "outputs": [],
   "source": [
    "# import pandas as pd\n",
    "# pd.set_option('display.max_columns', None)\n",
    "# # pd.set_option('display.max_rows', None)\n",
    "# pd.set_option('display.max_colwidth', None)"
   ]
  },
  {
   "cell_type": "code",
   "execution_count": 3,
   "metadata": {
    "colab": {
     "base_uri": "https://localhost:8080/",
     "height": 256
    },
    "id": "NHNz9wwQhBKe",
    "outputId": "1bd2a69e-5573-4a56-aa47-46e638ce746c"
   },
   "outputs": [
    {
     "name": "stdout",
     "output_type": "stream",
     "text": [
      "Spark NLP version 3.3.4\n",
      "Apache Spark version: 3.1.3\n"
     ]
    },
    {
     "data": {
      "text/html": [
       "\n",
       "            <div>\n",
       "                <p><b>SparkSession - in-memory</b></p>\n",
       "                \n",
       "        <div>\n",
       "            <p><b>SparkContext</b></p>\n",
       "\n",
       "            <p><a href=\"http://DESKTOP-GRDRPCD:4040\">Spark UI</a></p>\n",
       "\n",
       "            <dl>\n",
       "              <dt>Version</dt>\n",
       "                <dd><code>v3.1.3</code></dd>\n",
       "              <dt>Master</dt>\n",
       "                <dd><code>local[*]</code></dd>\n",
       "              <dt>AppName</dt>\n",
       "                <dd><code>Spark NLP</code></dd>\n",
       "            </dl>\n",
       "        </div>\n",
       "        \n",
       "            </div>\n",
       "        "
      ],
      "text/plain": [
       "<pyspark.sql.session.SparkSession at 0x2b88f0f47c8>"
      ]
     },
     "execution_count": 3,
     "metadata": {},
     "output_type": "execute_result"
    }
   ],
   "source": [
    "\n",
    "spark = sparknlp.start()\n",
    "\n",
    "\n",
    "print(\"Spark NLP version\", sparknlp.version())\n",
    "print(\"Apache Spark version:\", spark.version)\n",
    "\n",
    "spark"
   ]
  },
  {
   "cell_type": "code",
   "execution_count": null,
   "metadata": {
    "colab": {
     "base_uri": "https://localhost:8080/"
    },
    "id": "KpZTXTSkhCAe",
    "outputId": "19e59846-b2b2-4377-a331-e02313380391"
   },
   "outputs": [],
   "source": [
    "import pyspark.sql.functions as F\n",
    "\n",
    "df = spark.read\\\n",
    "                .option(\"header\", \"True\")\\\n",
    "                .csv(\"all_filtered_final.csv\")\\\n",
    "                .withColumnRenamed(\"description\", \"text\")\n",
    "\n",
    "df.show()"
   ]
  },
  {
   "cell_type": "code",
   "execution_count": 5,
   "metadata": {
    "colab": {
     "base_uri": "https://localhost:8080/"
    },
    "id": "asoficTvhLh9",
    "outputId": "dbd64259-91b3-4a8b-ea0c-ce4b90504cc2"
   },
   "outputs": [
    {
     "name": "stdout",
     "output_type": "stream",
     "text": [
      "root\n",
      " |-- code: string (nullable = true)\n",
      " |-- text: string (nullable = true)\n",
      " |-- y: string (nullable = true)\n",
      "\n"
     ]
    }
   ],
   "source": [
    "df.printSchema()"
   ]
  },
  {
   "cell_type": "code",
   "execution_count": 6,
   "metadata": {
    "colab": {
     "base_uri": "https://localhost:8080/"
    },
    "id": "nnTAEZlZhNfz",
    "outputId": "4634ba46-5f89-4fec-b6a5-1fb4a922bbdc"
   },
   "outputs": [],
   "source": [
    "documentAssembler = DocumentAssembler()\\\n",
    "    .setInputCol(\"text\")\\\n",
    "    .setOutputCol(\"document\")\\\n",
    "    #.setCleanupMode(\"shrink\")\n",
    "\n",
    "sentenceDetector = SentenceDetector()\\\n",
    "      .setInputCols(['document'])\\\n",
    "      .setOutputCol('sentences')\n",
    "\n",
    "tokenizer = Tokenizer() \\\n",
    "  .setInputCols([\"sentences\"]) \\\n",
    "  .setOutputCol(\"token\")\\\n",
    "\n",
    "normalizer = Normalizer() \\\n",
    "    .setInputCols([\"token\"]) \\\n",
    "    .setOutputCol(\"token_normalized\")\\\n",
    "    #.setCleanupPatterns([\"[\\\\.|,|:|-|;|!|_|\\\\?]+\"])\n",
    "\n",
    "stop_words = StopWordsCleaner.load(\"pretrained/stopwords_ar_ar_2.5.4_2.4_1594742440256\") \\\n",
    "      .setInputCols([\"token_normalized\"]) \\\n",
    "      .setOutputCol(\"cleanTokens\")\n",
    "\n",
    "\n",
    "lemmatizer = LemmatizerModel.load(\"pretrained/lemma_ar_2.7.0_2.4_1606572966993\") \\\n",
    "      .setInputCols([\"cleanTokens\"]) \\\n",
    "      .setOutputCol(\"lemma\")\n",
    "\n",
    "# embeddings = WordEmbeddingsModel.load(\"pretrained/arabic_w2v_cc_300d_ar_2.7.0_2.4_1607168354606\") \\\n",
    "#       .setInputCols([\"document\", \"lemma\"]) \\\n",
    "#       .setOutputCol(\"embeddings\")\n",
    "\n",
    "embeddings = AlbertEmbeddings.load(\"pretrained/albert_embeddings_albert_xlarge_arabic_ar_3.4.2_3.0_1649954299286\") \\\n",
    "    .setInputCols([\"document\", \"lemma\"]) \\\n",
    "    .setOutputCol(\"embeddings\")\n",
    "    "
   ]
  },
  {
   "cell_type": "code",
   "execution_count": 7,
   "metadata": {
    "id": "dczcTVuOhoGi"
   },
   "outputs": [],
   "source": [
    "nlpPipeline = Pipeline(stages=[\n",
    "    documentAssembler,\n",
    "    sentenceDetector,\n",
    "    tokenizer,\n",
    "    normalizer,\n",
    "    stop_words,\n",
    "    lemmatizer,\n",
    "    #pos,\n",
    "    embeddings\n",
    "])\n",
    "empty_df = spark.createDataFrame([['']]).toDF(\"text\")\n",
    "\n",
    "pipelineModel = nlpPipeline.fit(empty_df)\n",
    "result = pipelineModel.transform(df)\n"
   ]
  },
  {
   "cell_type": "code",
   "execution_count": 8,
   "metadata": {},
   "outputs": [],
   "source": [
    "# result.select('lemma.result').head()"
   ]
  },
  {
   "cell_type": "code",
   "execution_count": 9,
   "metadata": {},
   "outputs": [],
   "source": [
    "# result"
   ]
  },
  {
   "cell_type": "code",
   "execution_count": 10,
   "metadata": {},
   "outputs": [],
   "source": [
    "# result.select(F.explode(F.arrays_zip(result.lemma.result, result.embeddings.embeddings)).alias(\"cols\")) \\\n",
    "#                   .select(F.expr(\"cols['0']\").alias(\"token\"),\n",
    "#                           F.expr(\"cols['1']\").alias(\"embeddings\")).show()"
   ]
  },
  {
   "cell_type": "code",
   "execution_count": 11,
   "metadata": {},
   "outputs": [],
   "source": [
    "# result_df = result.select(F.explode(F.arrays_zip(result.lemma.result, result.embeddings.embeddings)).alias(\"cols\")) \\\n",
    "#                   .select(F.expr(\"cols['0']\").alias(\"token\"),\n",
    "#                           F.expr(\"cols['1']\").alias(\"embeddings\"))"
   ]
  },
  {
   "cell_type": "code",
   "execution_count": 12,
   "metadata": {},
   "outputs": [],
   "source": [
    "# result_df.head()"
   ]
  },
  {
   "cell_type": "code",
   "execution_count": 13,
   "metadata": {},
   "outputs": [],
   "source": [
    "# x = result_df.toPandas()"
   ]
  },
  {
   "cell_type": "code",
   "execution_count": 14,
   "metadata": {},
   "outputs": [],
   "source": [
    "# list(x.sample(frac = True))"
   ]
  },
  {
   "cell_type": "code",
   "execution_count": 15,
   "metadata": {
    "scrolled": false
   },
   "outputs": [],
   "source": [
    "# result.select('lemma.embeddings', 'lemma').toPandas()"
   ]
  },
  {
   "cell_type": "code",
   "execution_count": 16,
   "metadata": {
    "colab": {
     "base_uri": "https://localhost:8080/"
    },
    "id": "qyfG9DN3i4mk",
    "outputId": "8e3e8698-1dfb-446c-f4cf-f206f1b1794f"
   },
   "outputs": [],
   "source": [
    "final_to_run = result.select('embeddings.embeddings','y' )"
   ]
  },
  {
   "cell_type": "code",
   "execution_count": 17,
   "metadata": {},
   "outputs": [],
   "source": [
    "# final_to_run.show()"
   ]
  },
  {
   "cell_type": "code",
   "execution_count": 18,
   "metadata": {
    "colab": {
     "base_uri": "https://localhost:8080/"
    },
    "id": "kaSm_1qfta7a",
    "outputId": "bb1acfe2-da61-404a-ba2d-a211f154e87f"
   },
   "outputs": [],
   "source": [
    "# final_to_run.printSchema()\n"
   ]
  },
  {
   "cell_type": "code",
   "execution_count": 19,
   "metadata": {
    "id": "pDAk7O-ItlfX"
   },
   "outputs": [],
   "source": [
    "from pyspark.sql.functions import flatten\n",
    "final_to_run = final_to_run.select(flatten(final_to_run.embeddings),final_to_run.y)"
   ]
  },
  {
   "cell_type": "code",
   "execution_count": 20,
   "metadata": {
    "id": "JTj3QmtfyaPE"
   },
   "outputs": [],
   "source": [
    "final_to_run= final_to_run.withColumnRenamed(\"flatten(embeddings)\",\"embeddings\")"
   ]
  },
  {
   "cell_type": "code",
   "execution_count": 21,
   "metadata": {
    "colab": {
     "base_uri": "https://localhost:8080/"
    },
    "id": "MLo2Iv0kxcXZ",
    "outputId": "d0b0ceea-0266-4bab-eab2-8ab6a394deab"
   },
   "outputs": [
    {
     "name": "stdout",
     "output_type": "stream",
     "text": [
      "root\n",
      " |-- embeddings: array (nullable = true)\n",
      " |    |-- element: float (containsNull = false)\n",
      " |-- y: string (nullable = true)\n",
      "\n"
     ]
    }
   ],
   "source": [
    "final_to_run.printSchema()\n"
   ]
  },
  {
   "cell_type": "code",
   "execution_count": 22,
   "metadata": {
    "colab": {
     "base_uri": "https://localhost:8080/"
    },
    "id": "EG8flSSyxDjj",
    "outputId": "e8f8f4f5-3da3-40f1-dd8a-75d09f9971c7"
   },
   "outputs": [
    {
     "data": {
      "text/plain": [
       "88064"
      ]
     },
     "execution_count": 22,
     "metadata": {},
     "output_type": "execute_result"
    }
   ],
   "source": [
    "length = len(final_to_run.select('embeddings').take(1)[0][0])\n",
    "length"
   ]
  },
  {
   "cell_type": "code",
   "execution_count": 23,
   "metadata": {
    "id": "d2HXnRA1xnHN"
   },
   "outputs": [],
   "source": [
    "#final_to_run = final_to_run.select([final_to_run.embeddings[i] for i in range(length)])\n",
    "final_to_run = final_to_run.select([final_to_run.embeddings[i] for i in range(length)])"
   ]
  },
  {
   "cell_type": "code",
   "execution_count": 24,
   "metadata": {},
   "outputs": [],
   "source": [
    "# final_to_run.count()"
   ]
  },
  {
   "cell_type": "code",
   "execution_count": 25,
   "metadata": {},
   "outputs": [],
   "source": [
    "# len(final_to_run.columns)"
   ]
  },
  {
   "cell_type": "code",
   "execution_count": 26,
   "metadata": {},
   "outputs": [],
   "source": [
    "# final_to_run.show()"
   ]
  },
  {
   "cell_type": "code",
   "execution_count": null,
   "metadata": {
    "id": "9KuI1s7zzxlo"
   },
   "outputs": [],
   "source": [
    "final_to_run.write.format(\"csv\").save(\"alldata_Albertembeddings\")"
   ]
  },
  {
   "cell_type": "code",
   "execution_count": null,
   "metadata": {
    "id": "4-8Omgtm_Ald"
   },
   "outputs": [],
   "source": []
  },
  {
   "cell_type": "markdown",
   "metadata": {},
   "source": [
    "# merging the output to one file"
   ]
  },
  {
   "cell_type": "code",
   "execution_count": 26,
   "metadata": {},
   "outputs": [],
   "source": [
    "import pandas as pd\n",
    "import glob\n",
    "import os"
   ]
  },
  {
   "cell_type": "code",
   "execution_count": 28,
   "metadata": {},
   "outputs": [
    {
     "data": {
      "text/plain": [
       "['alldata_embeddings.csv\\\\part-00000-3a2f20a1-c41c-4ffa-9d42-812a16d5d80f-c000.csv',\n",
       " 'alldata_embeddings.csv\\\\part-00001-3a2f20a1-c41c-4ffa-9d42-812a16d5d80f-c000.csv',\n",
       " 'alldata_embeddings.csv\\\\part-00002-3a2f20a1-c41c-4ffa-9d42-812a16d5d80f-c000.csv']"
      ]
     },
     "execution_count": 28,
     "metadata": {},
     "output_type": "execute_result"
    }
   ],
   "source": [
    "files = os.path.join(\"alldata_embeddings.csv\", \"*.csv\")\n",
    "files = glob.glob(files)\n",
    "files"
   ]
  },
  {
   "cell_type": "code",
   "execution_count": 29,
   "metadata": {},
   "outputs": [],
   "source": [
    "df = pd.concat(map(pd.read_csv, files), ignore_index=True)"
   ]
  },
  {
   "cell_type": "code",
   "execution_count": 34,
   "metadata": {},
   "outputs": [
    {
     "data": {
      "text/plain": [
       "(10501, 69584)"
      ]
     },
     "execution_count": 34,
     "metadata": {},
     "output_type": "execute_result"
    }
   ],
   "source": [
    "df.shape"
   ]
  },
  {
   "cell_type": "code",
   "execution_count": 31,
   "metadata": {},
   "outputs": [],
   "source": [
    "col = []\n",
    "for i in range(df.shape[1]):\n",
    "    col.append(str(i))\n",
    "    \n",
    "df.columns = col"
   ]
  },
  {
   "cell_type": "code",
   "execution_count": 32,
   "metadata": {},
   "outputs": [
    {
     "data": {
      "text/html": [
       "<div>\n",
       "<style scoped>\n",
       "    .dataframe tbody tr th:only-of-type {\n",
       "        vertical-align: middle;\n",
       "    }\n",
       "\n",
       "    .dataframe tbody tr th {\n",
       "        vertical-align: top;\n",
       "    }\n",
       "\n",
       "    .dataframe thead th {\n",
       "        text-align: right;\n",
       "    }\n",
       "</style>\n",
       "<table border=\"1\" class=\"dataframe\">\n",
       "  <thead>\n",
       "    <tr style=\"text-align: right;\">\n",
       "      <th></th>\n",
       "      <th>0</th>\n",
       "      <th>1</th>\n",
       "      <th>2</th>\n",
       "      <th>3</th>\n",
       "      <th>4</th>\n",
       "      <th>5</th>\n",
       "      <th>6</th>\n",
       "      <th>7</th>\n",
       "      <th>8</th>\n",
       "      <th>9</th>\n",
       "      <th>...</th>\n",
       "      <th>69574</th>\n",
       "      <th>69575</th>\n",
       "      <th>69576</th>\n",
       "      <th>69577</th>\n",
       "      <th>69578</th>\n",
       "      <th>69579</th>\n",
       "      <th>69580</th>\n",
       "      <th>69581</th>\n",
       "      <th>69582</th>\n",
       "      <th>69583</th>\n",
       "    </tr>\n",
       "  </thead>\n",
       "  <tbody>\n",
       "    <tr>\n",
       "      <th>0</th>\n",
       "      <td>0.0</td>\n",
       "      <td>0.0</td>\n",
       "      <td>0.0</td>\n",
       "      <td>0.0</td>\n",
       "      <td>0.0</td>\n",
       "      <td>0.0</td>\n",
       "      <td>0.0</td>\n",
       "      <td>0.0</td>\n",
       "      <td>0.0</td>\n",
       "      <td>0.0</td>\n",
       "      <td>...</td>\n",
       "      <td>NaN</td>\n",
       "      <td>NaN</td>\n",
       "      <td>NaN</td>\n",
       "      <td>NaN</td>\n",
       "      <td>NaN</td>\n",
       "      <td>NaN</td>\n",
       "      <td>NaN</td>\n",
       "      <td>NaN</td>\n",
       "      <td>NaN</td>\n",
       "      <td>NaN</td>\n",
       "    </tr>\n",
       "  </tbody>\n",
       "</table>\n",
       "<p>1 rows × 69584 columns</p>\n",
       "</div>"
      ],
      "text/plain": [
       "     0    1    2    3    4    5    6    7    8    9  ...  69574  69575  69576  \\\n",
       "0  0.0  0.0  0.0  0.0  0.0  0.0  0.0  0.0  0.0  0.0  ...    NaN    NaN    NaN   \n",
       "\n",
       "   69577  69578  69579  69580  69581  69582  69583  \n",
       "0    NaN    NaN    NaN    NaN    NaN    NaN    NaN  \n",
       "\n",
       "[1 rows x 69584 columns]"
      ]
     },
     "execution_count": 32,
     "metadata": {},
     "output_type": "execute_result"
    }
   ],
   "source": [
    "df.head(1)"
   ]
  },
  {
   "cell_type": "code",
   "execution_count": 33,
   "metadata": {},
   "outputs": [],
   "source": [
    "df = df.fillna(0)"
   ]
  },
  {
   "cell_type": "markdown",
   "metadata": {},
   "source": [
    "# Adding y column"
   ]
  },
  {
   "cell_type": "code",
   "execution_count": 35,
   "metadata": {},
   "outputs": [],
   "source": [
    "out = pd.read_csv('all_filtered_final.csv')\n",
    "out = out['y']\n",
    "df['y'] = out"
   ]
  },
  {
   "cell_type": "code",
   "execution_count": 36,
   "metadata": {},
   "outputs": [
    {
     "data": {
      "text/html": [
       "<div>\n",
       "<style scoped>\n",
       "    .dataframe tbody tr th:only-of-type {\n",
       "        vertical-align: middle;\n",
       "    }\n",
       "\n",
       "    .dataframe tbody tr th {\n",
       "        vertical-align: top;\n",
       "    }\n",
       "\n",
       "    .dataframe thead th {\n",
       "        text-align: right;\n",
       "    }\n",
       "</style>\n",
       "<table border=\"1\" class=\"dataframe\">\n",
       "  <thead>\n",
       "    <tr style=\"text-align: right;\">\n",
       "      <th></th>\n",
       "      <th>0</th>\n",
       "      <th>1</th>\n",
       "      <th>2</th>\n",
       "      <th>3</th>\n",
       "      <th>4</th>\n",
       "      <th>5</th>\n",
       "      <th>6</th>\n",
       "      <th>7</th>\n",
       "      <th>8</th>\n",
       "      <th>9</th>\n",
       "      <th>...</th>\n",
       "      <th>69575</th>\n",
       "      <th>69576</th>\n",
       "      <th>69577</th>\n",
       "      <th>69578</th>\n",
       "      <th>69579</th>\n",
       "      <th>69580</th>\n",
       "      <th>69581</th>\n",
       "      <th>69582</th>\n",
       "      <th>69583</th>\n",
       "      <th>y</th>\n",
       "    </tr>\n",
       "  </thead>\n",
       "  <tbody>\n",
       "    <tr>\n",
       "      <th>0</th>\n",
       "      <td>0.0</td>\n",
       "      <td>0.0</td>\n",
       "      <td>0.0</td>\n",
       "      <td>0.0</td>\n",
       "      <td>0.0</td>\n",
       "      <td>0.0</td>\n",
       "      <td>0.0</td>\n",
       "      <td>0.0</td>\n",
       "      <td>0.0</td>\n",
       "      <td>0.0</td>\n",
       "      <td>...</td>\n",
       "      <td>0.0</td>\n",
       "      <td>0.0</td>\n",
       "      <td>0.0</td>\n",
       "      <td>0.0</td>\n",
       "      <td>0.0</td>\n",
       "      <td>0.0</td>\n",
       "      <td>0.0</td>\n",
       "      <td>0.0</td>\n",
       "      <td>0.0</td>\n",
       "      <td>تكفل</td>\n",
       "    </tr>\n",
       "  </tbody>\n",
       "</table>\n",
       "<p>1 rows × 69585 columns</p>\n",
       "</div>"
      ],
      "text/plain": [
       "     0    1    2    3    4    5    6    7    8    9  ...  69575  69576  69577  \\\n",
       "0  0.0  0.0  0.0  0.0  0.0  0.0  0.0  0.0  0.0  0.0  ...    0.0    0.0    0.0   \n",
       "\n",
       "   69578  69579  69580  69581  69582  69583     y  \n",
       "0    0.0    0.0    0.0    0.0    0.0    0.0  تكفل  \n",
       "\n",
       "[1 rows x 69585 columns]"
      ]
     },
     "execution_count": 36,
     "metadata": {},
     "output_type": "execute_result"
    }
   ],
   "source": [
    "df.head(1)"
   ]
  },
  {
   "cell_type": "code",
   "execution_count": 37,
   "metadata": {},
   "outputs": [
    {
     "data": {
      "text/plain": [
       "(10501, 69585)"
      ]
     },
     "execution_count": 37,
     "metadata": {},
     "output_type": "execute_result"
    }
   ],
   "source": [
    "df.shape"
   ]
  },
  {
   "cell_type": "markdown",
   "metadata": {},
   "source": [
    "# save the final embeddings (ready to be trained)"
   ]
  },
  {
   "cell_type": "code",
   "execution_count": 38,
   "metadata": {},
   "outputs": [],
   "source": [
    "df.to_csv('all_final_embeddings.csv', index = False)"
   ]
  },
  {
   "cell_type": "code",
   "execution_count": null,
   "metadata": {},
   "outputs": [],
   "source": []
  }
 ],
 "metadata": {
  "colab": {
   "collapsed_sections": [],
   "name": "spark for 2015.ipynb",
   "provenance": []
  },
  "kernelspec": {
   "display_name": "Python 3 (ipykernel)",
   "language": "python",
   "name": "python3"
  },
  "language_info": {
   "codemirror_mode": {
    "name": "ipython",
    "version": 3
   },
   "file_extension": ".py",
   "mimetype": "text/x-python",
   "name": "python",
   "nbconvert_exporter": "python",
   "pygments_lexer": "ipython3",
   "version": "3.7.4"
  }
 },
 "nbformat": 4,
 "nbformat_minor": 1
}
